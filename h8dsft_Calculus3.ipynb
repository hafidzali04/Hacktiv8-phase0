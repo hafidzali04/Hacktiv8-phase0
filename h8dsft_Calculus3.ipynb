{
  "nbformat": 4,
  "nbformat_minor": 0,
  "metadata": {
    "colab": {
      "name": "h8dsft_Calculus3.ipynb",
      "provenance": []
    },
    "kernelspec": {
      "name": "python3",
      "display_name": "Python 3"
    },
    "language_info": {
      "name": "python"
    }
  },
  "cells": [
    {
      "cell_type": "markdown",
      "metadata": {
        "id": "Z18Lck4nSvxQ"
      },
      "source": [
        "##Non Graded Challenge 9\n",
        "Assignment Instructions\n",
        "\n",
        "---\n",
        "\n",
        "\n",
        "Carilah gradient dari sebuah fungsi:\n",
        "$3x+4y=5$\n",
        "\n",
        "Assignment Objectives\n",
        "\n",
        "---\n",
        "\n",
        "\n",
        "Non-Graded Assignment ini dibuat guna mengevaluasi konsep Calculus sebagai berikut:\n",
        "\n",
        "* Mampu memahami konsep gradient\n",
        "* Mampu mencari gradient sebuah fungsi dengan menggunakan Python"
      ]
    },
    {
      "cell_type": "code",
      "metadata": {
        "id": "aMYe3HagSsog"
      },
      "source": [
        "import sympy as sy\n",
        "from sympy.tensor.array import derive_by_array"
      ],
      "execution_count": 1,
      "outputs": []
    },
    {
      "cell_type": "code",
      "metadata": {
        "id": "8X7wHttzTChs"
      },
      "source": [
        "#Mendefinisikan fungsi\n",
        "x,y = sy.symbols('x y')\n",
        "f = 3*x + 4*y - 5"
      ],
      "execution_count": 2,
      "outputs": []
    },
    {
      "cell_type": "code",
      "metadata": {
        "colab": {
          "base_uri": "https://localhost:8080/",
          "height": 37
        },
        "id": "_EgeGBl4TFum",
        "outputId": "4c9e1fc4-97d7-4299-b052-805fe0ab9e3f"
      },
      "source": [
        "#Mencari turunan parsial fungsi terhadap x\n",
        "sy.diff(f, x)"
      ],
      "execution_count": 3,
      "outputs": [
        {
          "output_type": "execute_result",
          "data": {
            "text/latex": "$\\displaystyle 3$",
            "text/plain": [
              "3"
            ]
          },
          "metadata": {},
          "execution_count": 3
        }
      ]
    },
    {
      "cell_type": "code",
      "metadata": {
        "colab": {
          "base_uri": "https://localhost:8080/",
          "height": 37
        },
        "id": "Prh4JOKKTHtc",
        "outputId": "599c04fe-a114-4831-f0bc-a0b23e6ede01"
      },
      "source": [
        "#Mencari turunan parsial fungsi terhadap y\n",
        "sy.diff(f, y)"
      ],
      "execution_count": 4,
      "outputs": [
        {
          "output_type": "execute_result",
          "data": {
            "text/latex": "$\\displaystyle 4$",
            "text/plain": [
              "4"
            ]
          },
          "metadata": {},
          "execution_count": 4
        }
      ]
    },
    {
      "cell_type": "code",
      "metadata": {
        "colab": {
          "base_uri": "https://localhost:8080/",
          "height": 38
        },
        "id": "ebGff6nBTJem",
        "outputId": "e4f8598d-a597-4bec-dfda-cef63abb76d1"
      },
      "source": [
        "# Gradien dari fungsi\n",
        "derive_by_array(f, (x,y))"
      ],
      "execution_count": 5,
      "outputs": [
        {
          "output_type": "execute_result",
          "data": {
            "text/latex": "$\\displaystyle \\left[\\begin{matrix}3 & 4\\end{matrix}\\right]$",
            "text/plain": [
              "[3, 4]"
            ]
          },
          "metadata": {},
          "execution_count": 5
        }
      ]
    }
  ]
}