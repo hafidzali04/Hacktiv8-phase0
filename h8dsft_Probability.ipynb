{
  "nbformat": 4,
  "nbformat_minor": 0,
  "metadata": {
    "colab": {
      "name": "h8dsft_Probability.ipynb",
      "provenance": []
    },
    "kernelspec": {
      "name": "python3",
      "display_name": "Python 3"
    },
    "language_info": {
      "name": "python"
    }
  },
  "cells": [
    {
      "cell_type": "markdown",
      "metadata": {
        "id": "Mgn4UkKJa_4e"
      },
      "source": [
        "##Non Graded Challenge 10\n",
        "Assignment Instructions\n",
        "\n",
        "---\n",
        "\n",
        "\n",
        "Buatlah sebuah kode untuk mensimulasikan melempar koin sebanyak 50.000 kali dengan assign value random berupa 0 dan 1 untuk kepala atau ekor. Setiap kali koin dilempar, peluang untuk mendapatkan kepala atau ekor adalah 50%.\n",
        "\n",
        "Assignment Objectives\n",
        "\n",
        "---\n",
        "\n",
        "\n",
        "Non-Graded Assignment ini dibuat guna mengevaluasi konsep Probability sebagai berikut:\n",
        "\n",
        "Memahami konsep probability\n",
        "Mampu melakukan simulasi probability dengan menggunakan Python"
      ]
    },
    {
      "cell_type": "code",
      "metadata": {
        "id": "D3RVTsLsa1SZ"
      },
      "source": [
        "import random\n"
      ],
      "execution_count": 1,
      "outputs": []
    },
    {
      "cell_type": "code",
      "metadata": {
        "colab": {
          "base_uri": "https://localhost:8080/"
        },
        "id": "z6clvIjHbRo_",
        "outputId": "e849c547-b108-4e95-8e31-515df4831bb6"
      },
      "source": [
        "# Membuat list dengan 2 elemen (kepala dan ekor)\n",
        "heads_tails = [0,0]\n",
        "\n",
        "# Membuat loop sebanyak 50.000 kali\n",
        "i = 0\n",
        "while i < 50000:\n",
        "    i = i + 1\n",
        "    toss = random.randint(0,1)\n",
        "    heads_tails[toss] = heads_tails[toss] + 1\n",
        "    \n",
        "print(heads_tails)"
      ],
      "execution_count": 17,
      "outputs": [
        {
          "output_type": "stream",
          "name": "stdout",
          "text": [
            "[24965, 25035]\n"
          ]
        }
      ]
    },
    {
      "cell_type": "code",
      "metadata": {
        "colab": {
          "base_uri": "https://localhost:8080/"
        },
        "id": "SrnmOqkrbl8f",
        "outputId": "aa3113bf-1843-4406-a7c6-e83417965cf2"
      },
      "source": [
        "# Menghitung peluang mendapatkan kepala atau ekor\n",
        "print('Peluang untuk mendapatkan kepala adalah',(heads_tails[0]/trials)*100,'%')\n",
        "print('Peluang untuk mendapatkan ekor adalah', (heads_tails[1]/trials)*100,'%')"
      ],
      "execution_count": 18,
      "outputs": [
        {
          "output_type": "stream",
          "name": "stdout",
          "text": [
            "Peluang untuk mendapatkan kepala adalah 49.93 %\n",
            "Peluang untuk mendapatkan ekor adalah 50.07 %\n"
          ]
        }
      ]
    }
  ]
}