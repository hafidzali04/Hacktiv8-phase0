{
  "nbformat": 4,
  "nbformat_minor": 0,
  "metadata": {
    "colab": {
      "name": "h8dsft_looping.ipynb",
      "provenance": []
    },
    "kernelspec": {
      "name": "python3",
      "display_name": "Python 3"
    },
    "language_info": {
      "name": "python"
    }
  },
  "cells": [
    {
      "cell_type": "code",
      "metadata": {
        "colab": {
          "base_uri": "https://localhost:8080/"
        },
        "id": "0VCtUQi0l9ss",
        "outputId": "ea743095-3393-40be-9b5c-bb4fe00129fc"
      },
      "source": [
        "numbers = [\n",
        "  951, 402, 984, 651, 360, 69, 408, 319, 601, 485, 980, 507, 725, 547, 544, 615, 83, 165, 141, 501, 263, 617, 865, 575, 219, 390, 984, 592, 236, 105, 942, 941, 386, 462, 47, 418, 907, 344, 236, 375, 823, 566, 597, 978, 328, 615, 953, 345, 399, 162, 758, 219, 918, 237, 412, 566, 826, 248, 866, 950, 626, 949\n",
        "  ]\n",
        "#numbers.sort()\n",
        "for x in numbers:\n",
        "  if x % 2 == 0 and x <= 918:\n",
        "    print(x)\n",
        "print(\"\\nDone\")\n"
      ],
      "execution_count": 14,
      "outputs": [
        {
          "output_type": "stream",
          "name": "stdout",
          "text": [
            "402\n",
            "360\n",
            "408\n",
            "544\n",
            "390\n",
            "592\n",
            "236\n",
            "386\n",
            "462\n",
            "418\n",
            "344\n",
            "236\n",
            "566\n",
            "328\n",
            "162\n",
            "758\n",
            "918\n",
            "412\n",
            "566\n",
            "826\n",
            "248\n",
            "866\n",
            "626\n",
            "\n",
            "Done\n"
          ]
        }
      ]
    }
  ]
}