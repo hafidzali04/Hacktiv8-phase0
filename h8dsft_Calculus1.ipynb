{
  "nbformat": 4,
  "nbformat_minor": 0,
  "metadata": {
    "colab": {
      "name": "h8dsft_Calculus1.ipynb",
      "provenance": []
    },
    "kernelspec": {
      "name": "python3",
      "display_name": "Python 3"
    },
    "language_info": {
      "name": "python"
    }
  },
  "cells": [
    {
      "cell_type": "markdown",
      "metadata": {
        "id": "Of21uTE1RHv1"
      },
      "source": [
        "##Non Graded Challenge 7\n",
        "Assignment Instructions\n",
        "\n",
        "---\n",
        "\n",
        "\n",
        "Carilah derivative dari sebuah fungsi:\n",
        "\n",
        "$y = x^{2} + 2x + 1$\n",
        "\n",
        "$y = 4x^{3} - 3x^{2} + 2x -1$\n",
        "\n",
        "Assignment Objectives\n",
        "\n",
        "---\n",
        "\n",
        "\n",
        "Non-Graded Assignment ini dibuat guna mengevaluasi konsep Calculus sebagai berikut:\n",
        "\n",
        "* Mampu memahami konsep derivative\n",
        "* Mampu mencari turunan dari sebuah fungsi dengan menggunakan Python"
      ]
    },
    {
      "cell_type": "code",
      "metadata": {
        "id": "Asu38Bj2RC6G"
      },
      "source": [
        "import sympy as sy"
      ],
      "execution_count": 1,
      "outputs": []
    },
    {
      "cell_type": "code",
      "metadata": {
        "colab": {
          "base_uri": "https://localhost:8080/",
          "height": 38
        },
        "id": "3pswKSr3Rjt2",
        "outputId": "2c3e8686-2030-49a0-ea38-05cd33a70b27"
      },
      "source": [
        "x = sy.Symbol('x', real = True)\n",
        "f = x**2 + 2*x + 1\n",
        "\n",
        "f.diff(x)"
      ],
      "execution_count": 2,
      "outputs": [
        {
          "output_type": "execute_result",
          "data": {
            "text/latex": "$\\displaystyle 2 x + 2$",
            "text/plain": [
              "2*x + 2"
            ]
          },
          "metadata": {},
          "execution_count": 2
        }
      ]
    },
    {
      "cell_type": "code",
      "metadata": {
        "colab": {
          "base_uri": "https://localhost:8080/",
          "height": 38
        },
        "id": "9bnsBnDJRn0-",
        "outputId": "03ef7c12-b899-4412-b186-2b6c1d52d4ba"
      },
      "source": [
        "x = sy.Symbol('x', real = True)\n",
        "f = 4*x**3 + 3*x**2 + 2*x + 1\n",
        "\n",
        "f.diff(x)"
      ],
      "execution_count": 3,
      "outputs": [
        {
          "output_type": "execute_result",
          "data": {
            "text/latex": "$\\displaystyle 12 x^{2} + 6 x + 2$",
            "text/plain": [
              "12*x**2 + 6*x + 2"
            ]
          },
          "metadata": {},
          "execution_count": 3
        }
      ]
    }
  ]
}