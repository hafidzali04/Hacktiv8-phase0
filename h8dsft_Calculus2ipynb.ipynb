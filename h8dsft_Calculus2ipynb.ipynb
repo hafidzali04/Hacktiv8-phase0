{
  "nbformat": 4,
  "nbformat_minor": 0,
  "metadata": {
    "colab": {
      "name": "h8dsft_Calculus2ipynb",
      "provenance": []
    },
    "kernelspec": {
      "name": "python3",
      "display_name": "Python 3"
    },
    "language_info": {
      "name": "python"
    }
  },
  "cells": [
    {
      "cell_type": "markdown",
      "metadata": {
        "id": "-YUe_cDxR4Ht"
      },
      "source": [
        "##Non Graded Challenge 8\n",
        "Assignment Instructions\n",
        "\n",
        "---\n",
        "\n",
        "\n",
        "Carilah integral dari sebuah fungsi:\n",
        "\n",
        "$\\int(3x^{2}-6x+3) , \\mathrm{d}x.$\n",
        "\n",
        "$\\int(8x^{3}-x^{2}+5x-1) , \\mathrm{d}x.$\n",
        "\n",
        "Assignment Objectives\n",
        "\n",
        "---\n",
        "\n",
        "\n",
        "Non-Graded Assignment ini dibuat guna mengevaluasi konsep Calculus sebagai berikut:\n",
        "\n",
        "* Mampu memahami konsep integral\n",
        "* Mampu mencari integral sebuah fungsi dengan menggunakan Python"
      ]
    },
    {
      "cell_type": "code",
      "metadata": {
        "id": "oNBog6zXRzGW"
      },
      "source": [
        "import sympy as sy\n",
        "import scipy.integrate as integrate"
      ],
      "execution_count": 1,
      "outputs": []
    },
    {
      "cell_type": "code",
      "metadata": {
        "colab": {
          "base_uri": "https://localhost:8080/",
          "height": 38
        },
        "id": "RJsK9dk0SOR8",
        "outputId": "858fdfea-0889-42c2-984c-3bee5f094a19"
      },
      "source": [
        "# Mencari integral tanpa batas dari fungsi\n",
        "\n",
        "x = sy.Symbol('x')\n",
        "f = 3*x**2 - 6*x + 3\n",
        "\n",
        "f.integrate(x)"
      ],
      "execution_count": 2,
      "outputs": [
        {
          "output_type": "execute_result",
          "data": {
            "text/latex": "$\\displaystyle x^{3} - 3 x^{2} + 3 x$",
            "text/plain": [
              "x**3 - 3*x**2 + 3*x"
            ]
          },
          "metadata": {},
          "execution_count": 2
        }
      ]
    },
    {
      "cell_type": "code",
      "metadata": {
        "colab": {
          "base_uri": "https://localhost:8080/",
          "height": 54
        },
        "id": "umNKG2zCSats",
        "outputId": "f9dce037-60ed-43ed-d210-3ecbc839e42e"
      },
      "source": [
        "# Mencari integral tanpa batas dari fungsi\n",
        "\n",
        "x = sy.Symbol('x')\n",
        "f = 8*x**3 - x**2 + 5*x - 1\n",
        "\n",
        "f.integrate(x)"
      ],
      "execution_count": 3,
      "outputs": [
        {
          "output_type": "execute_result",
          "data": {
            "text/latex": "$\\displaystyle 2 x^{4} - \\frac{x^{3}}{3} + \\frac{5 x^{2}}{2} - x$",
            "text/plain": [
              "2*x**4 - x**3/3 + 5*x**2/2 - x"
            ]
          },
          "metadata": {},
          "execution_count": 3
        }
      ]
    }
  ]
}