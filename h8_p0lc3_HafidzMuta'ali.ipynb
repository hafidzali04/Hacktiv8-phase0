{
  "nbformat": 4,
  "nbformat_minor": 0,
  "metadata": {
    "colab": {
      "name": "h8_p0lc3_HafidzMuta'ali.ipynb",
      "provenance": []
    },
    "kernelspec": {
      "name": "python3",
      "display_name": "Python 3"
    },
    "language_info": {
      "name": "python"
    }
  },
  "cells": [
    {
      "cell_type": "markdown",
      "metadata": {
        "id": "14JoEhtklpA6"
      },
      "source": [
        "#1 Perkenalan\n",
        "Nama: Hafidz Muta'ali\n",
        "\n",
        "Batch: FTDS 006\n",
        "\n",
        "Live Code 3"
      ]
    },
    {
      "cell_type": "markdown",
      "metadata": {
        "id": "ZWlDlx3Cl8FD"
      },
      "source": [
        "## 2 Problem\n",
        "Kamu adalah seorang data scientist di salah satu perusahaan e-commerce. Saat ini, kamu terlibat dalam proyek bersama dengan tim produk dan tim UI/UX untuk merubah tampilan landing page. Menggunakan dataset dari https://raw.githubusercontent.com/fahmimnalfrzki/Dataset/main/purchase_data.txt?token=AEZDEHRU5YLQEXGDDLCL6CLA2KZTI, menggunakan konsep central of tendency, apakah data cenderung berpusat pada purchased=0 atau purchased=1? dan buatlah analisa menggunakan konsep hypothesis testing dan A/B testing (Informasikan H0 dan H1 pada bagian Mathematical Calculation and Analysis). Apa kesimpulanmu terhadap hasil A/B testing?\n",
        "\n",
        "* user_id = id pelanggan\n",
        "* timestamp = Waktu ketika pelanggan mengakses laman web\n",
        "* group = grup kontrol dan treatment\n",
        "* landing_page = landing page yang diakses oleh pelanggan (laman lama atau laman baru)\n",
        "* purchased = 0 : tidak ada pembelian, and 1: ada pembelian"
      ]
    },
    {
      "cell_type": "markdown",
      "metadata": {
        "id": "AneQBcYumFSR"
      },
      "source": [
        "##3 Import Pustaka"
      ]
    },
    {
      "cell_type": "code",
      "metadata": {
        "id": "VaWZsQYMgB4q"
      },
      "source": [
        "import pandas as pd\n",
        "from scipy import stats\n",
        "import numpy as np\n",
        "import seaborn as sns\n",
        "import matplotlib.pyplot as plt"
      ],
      "execution_count": 109,
      "outputs": []
    },
    {
      "cell_type": "markdown",
      "metadata": {
        "id": "c4p6vBLCmZZ-"
      },
      "source": [
        "##4 Data Loading\n",
        "Bagian ini berisi proses data loading yang kemudian dilanjutkan dengan explorasi data secara sederhana.\n",
        "Data Processing"
      ]
    },
    {
      "cell_type": "code",
      "metadata": {
        "colab": {
          "base_uri": "https://localhost:8080/",
          "height": 0
        },
        "id": "AWR1zza5mdnD",
        "outputId": "e3dce10a-b8ba-40e6-b718-187760acd089"
      },
      "source": [
        "df = pd.read_csv('https://raw.githubusercontent.com/fahmimnalfrzki/Dataset/main/purchase_data.txt?token=AEZDEHRU5YLQEXGDDLCL6CLA2KZTI',delimiter=';')\n",
        "df"
      ],
      "execution_count": 91,
      "outputs": [
        {
          "output_type": "execute_result",
          "data": {
            "text/html": [
              "<div>\n",
              "<style scoped>\n",
              "    .dataframe tbody tr th:only-of-type {\n",
              "        vertical-align: middle;\n",
              "    }\n",
              "\n",
              "    .dataframe tbody tr th {\n",
              "        vertical-align: top;\n",
              "    }\n",
              "\n",
              "    .dataframe thead th {\n",
              "        text-align: right;\n",
              "    }\n",
              "</style>\n",
              "<table border=\"1\" class=\"dataframe\">\n",
              "  <thead>\n",
              "    <tr style=\"text-align: right;\">\n",
              "      <th></th>\n",
              "      <th>user_id</th>\n",
              "      <th>timestamp</th>\n",
              "      <th>group</th>\n",
              "      <th>landing_page</th>\n",
              "      <th>purchased</th>\n",
              "    </tr>\n",
              "  </thead>\n",
              "  <tbody>\n",
              "    <tr>\n",
              "      <th>0</th>\n",
              "      <td>851104</td>\n",
              "      <td>2017-01-21 22:11:48.556739</td>\n",
              "      <td>control</td>\n",
              "      <td>old_page</td>\n",
              "      <td>0</td>\n",
              "    </tr>\n",
              "    <tr>\n",
              "      <th>1</th>\n",
              "      <td>804228</td>\n",
              "      <td>2017-01-12 08:01:45.159739</td>\n",
              "      <td>control</td>\n",
              "      <td>old_page</td>\n",
              "      <td>0</td>\n",
              "    </tr>\n",
              "    <tr>\n",
              "      <th>2</th>\n",
              "      <td>661590</td>\n",
              "      <td>2017-01-11 16:55:06.154213</td>\n",
              "      <td>treatment</td>\n",
              "      <td>new_page</td>\n",
              "      <td>0</td>\n",
              "    </tr>\n",
              "    <tr>\n",
              "      <th>3</th>\n",
              "      <td>853541</td>\n",
              "      <td>2017-01-08 18:28:03.143765</td>\n",
              "      <td>treatment</td>\n",
              "      <td>new_page</td>\n",
              "      <td>0</td>\n",
              "    </tr>\n",
              "    <tr>\n",
              "      <th>4</th>\n",
              "      <td>864975</td>\n",
              "      <td>2017-01-21 01:52:26.210827</td>\n",
              "      <td>control</td>\n",
              "      <td>old_page</td>\n",
              "      <td>1</td>\n",
              "    </tr>\n",
              "    <tr>\n",
              "      <th>...</th>\n",
              "      <td>...</td>\n",
              "      <td>...</td>\n",
              "      <td>...</td>\n",
              "      <td>...</td>\n",
              "      <td>...</td>\n",
              "    </tr>\n",
              "    <tr>\n",
              "      <th>294473</th>\n",
              "      <td>751197</td>\n",
              "      <td>2017-01-03 22:28:38.630509</td>\n",
              "      <td>control</td>\n",
              "      <td>old_page</td>\n",
              "      <td>0</td>\n",
              "    </tr>\n",
              "    <tr>\n",
              "      <th>294474</th>\n",
              "      <td>945152</td>\n",
              "      <td>2017-01-12 00:51:57.078372</td>\n",
              "      <td>control</td>\n",
              "      <td>old_page</td>\n",
              "      <td>0</td>\n",
              "    </tr>\n",
              "    <tr>\n",
              "      <th>294475</th>\n",
              "      <td>734608</td>\n",
              "      <td>2017-01-22 11:45:03.439544</td>\n",
              "      <td>control</td>\n",
              "      <td>old_page</td>\n",
              "      <td>0</td>\n",
              "    </tr>\n",
              "    <tr>\n",
              "      <th>294476</th>\n",
              "      <td>697314</td>\n",
              "      <td>2017-01-15 01:20:28.957438</td>\n",
              "      <td>control</td>\n",
              "      <td>old_page</td>\n",
              "      <td>0</td>\n",
              "    </tr>\n",
              "    <tr>\n",
              "      <th>294477</th>\n",
              "      <td>715931</td>\n",
              "      <td>2017-01-16 12:40:24.467417</td>\n",
              "      <td>treatment</td>\n",
              "      <td>new_page</td>\n",
              "      <td>0</td>\n",
              "    </tr>\n",
              "  </tbody>\n",
              "</table>\n",
              "<p>294478 rows × 5 columns</p>\n",
              "</div>"
            ],
            "text/plain": [
              "        user_id                   timestamp      group landing_page  purchased\n",
              "0        851104  2017-01-21 22:11:48.556739    control     old_page          0\n",
              "1        804228  2017-01-12 08:01:45.159739    control     old_page          0\n",
              "2        661590  2017-01-11 16:55:06.154213  treatment     new_page          0\n",
              "3        853541  2017-01-08 18:28:03.143765  treatment     new_page          0\n",
              "4        864975  2017-01-21 01:52:26.210827    control     old_page          1\n",
              "...         ...                         ...        ...          ...        ...\n",
              "294473   751197  2017-01-03 22:28:38.630509    control     old_page          0\n",
              "294474   945152  2017-01-12 00:51:57.078372    control     old_page          0\n",
              "294475   734608  2017-01-22 11:45:03.439544    control     old_page          0\n",
              "294476   697314  2017-01-15 01:20:28.957438    control     old_page          0\n",
              "294477   715931  2017-01-16 12:40:24.467417  treatment     new_page          0\n",
              "\n",
              "[294478 rows x 5 columns]"
            ]
          },
          "metadata": {},
          "execution_count": 91
        }
      ]
    },
    {
      "cell_type": "markdown",
      "metadata": {
        "id": "N8NVzhslm6S5"
      },
      "source": [
        "## 5 Data Preprocessing\n",
        "## MEASURES OF TENDENCY DATA\n",
        "Bagian ini berisi proses pengolahan data hingga siap dianalisa."
      ]
    },
    {
      "cell_type": "code",
      "metadata": {
        "colab": {
          "base_uri": "https://localhost:8080/"
        },
        "id": "3QkZsBXpotuH",
        "outputId": "be10fe7f-30a7-47a8-8b09-d525bb891ae3"
      },
      "source": [
        "#Melihat tipe data\n",
        "df.info()"
      ],
      "execution_count": 92,
      "outputs": [
        {
          "output_type": "stream",
          "name": "stdout",
          "text": [
            "<class 'pandas.core.frame.DataFrame'>\n",
            "RangeIndex: 294478 entries, 0 to 294477\n",
            "Data columns (total 5 columns):\n",
            " #   Column        Non-Null Count   Dtype \n",
            "---  ------        --------------   ----- \n",
            " 0   user_id       294478 non-null  int64 \n",
            " 1   timestamp     294478 non-null  object\n",
            " 2   group         294478 non-null  object\n",
            " 3   landing_page  294478 non-null  object\n",
            " 4   purchased     294478 non-null  int64 \n",
            "dtypes: int64(2), object(3)\n",
            "memory usage: 11.2+ MB\n"
          ]
        }
      ]
    },
    {
      "cell_type": "code",
      "metadata": {
        "colab": {
          "base_uri": "https://localhost:8080/"
        },
        "id": "NQ9CUfzlo1bA",
        "outputId": "1e02a06e-bb05-4595-9c8b-5f242cfd9403"
      },
      "source": [
        "#Melihat value unique pada kolom purchashed\n",
        "df['purchased'].unique()"
      ],
      "execution_count": 93,
      "outputs": [
        {
          "output_type": "execute_result",
          "data": {
            "text/plain": [
              "array([0, 1])"
            ]
          },
          "metadata": {},
          "execution_count": 93
        }
      ]
    },
    {
      "cell_type": "code",
      "metadata": {
        "colab": {
          "base_uri": "https://localhost:8080/"
        },
        "id": "vgQ3kqHLpC8m",
        "outputId": "b691bf4a-8498-460d-e834-390b364c200b"
      },
      "source": [
        "#Melihat value unique pada kolom group\n",
        "df['group'].unique()"
      ],
      "execution_count": 94,
      "outputs": [
        {
          "output_type": "execute_result",
          "data": {
            "text/plain": [
              "array(['control', 'treatment'], dtype=object)"
            ]
          },
          "metadata": {},
          "execution_count": 94
        }
      ]
    },
    {
      "cell_type": "code",
      "metadata": {
        "colab": {
          "base_uri": "https://localhost:8080/"
        },
        "id": "ImxyOWpSpJiq",
        "outputId": "67da88a1-2bef-4855-9d9c-0a51867b1656"
      },
      "source": [
        "#Melihat value unique pada kolom landing page\n",
        "df['landing_page'].unique()"
      ],
      "execution_count": 95,
      "outputs": [
        {
          "output_type": "execute_result",
          "data": {
            "text/plain": [
              "array(['old_page', 'new_page'], dtype=object)"
            ]
          },
          "metadata": {},
          "execution_count": 95
        }
      ]
    },
    {
      "cell_type": "code",
      "metadata": {
        "colab": {
          "base_uri": "https://localhost:8080/",
          "height": 0
        },
        "id": "yAsVfDspm4vg",
        "outputId": "3ebafe6d-b6ff-4169-f901-4a92c47d92b5"
      },
      "source": [
        "#melihat statistik keseluruhan data\n",
        "df.describe()"
      ],
      "execution_count": 96,
      "outputs": [
        {
          "output_type": "execute_result",
          "data": {
            "text/html": [
              "<div>\n",
              "<style scoped>\n",
              "    .dataframe tbody tr th:only-of-type {\n",
              "        vertical-align: middle;\n",
              "    }\n",
              "\n",
              "    .dataframe tbody tr th {\n",
              "        vertical-align: top;\n",
              "    }\n",
              "\n",
              "    .dataframe thead th {\n",
              "        text-align: right;\n",
              "    }\n",
              "</style>\n",
              "<table border=\"1\" class=\"dataframe\">\n",
              "  <thead>\n",
              "    <tr style=\"text-align: right;\">\n",
              "      <th></th>\n",
              "      <th>user_id</th>\n",
              "      <th>purchased</th>\n",
              "    </tr>\n",
              "  </thead>\n",
              "  <tbody>\n",
              "    <tr>\n",
              "      <th>count</th>\n",
              "      <td>294478.000000</td>\n",
              "      <td>294478.000000</td>\n",
              "    </tr>\n",
              "    <tr>\n",
              "      <th>mean</th>\n",
              "      <td>787974.124733</td>\n",
              "      <td>0.119659</td>\n",
              "    </tr>\n",
              "    <tr>\n",
              "      <th>std</th>\n",
              "      <td>91210.823776</td>\n",
              "      <td>0.324563</td>\n",
              "    </tr>\n",
              "    <tr>\n",
              "      <th>min</th>\n",
              "      <td>630000.000000</td>\n",
              "      <td>0.000000</td>\n",
              "    </tr>\n",
              "    <tr>\n",
              "      <th>25%</th>\n",
              "      <td>709032.250000</td>\n",
              "      <td>0.000000</td>\n",
              "    </tr>\n",
              "    <tr>\n",
              "      <th>50%</th>\n",
              "      <td>787933.500000</td>\n",
              "      <td>0.000000</td>\n",
              "    </tr>\n",
              "    <tr>\n",
              "      <th>75%</th>\n",
              "      <td>866911.750000</td>\n",
              "      <td>0.000000</td>\n",
              "    </tr>\n",
              "    <tr>\n",
              "      <th>max</th>\n",
              "      <td>945999.000000</td>\n",
              "      <td>1.000000</td>\n",
              "    </tr>\n",
              "  </tbody>\n",
              "</table>\n",
              "</div>"
            ],
            "text/plain": [
              "             user_id      purchased\n",
              "count  294478.000000  294478.000000\n",
              "mean   787974.124733       0.119659\n",
              "std     91210.823776       0.324563\n",
              "min    630000.000000       0.000000\n",
              "25%    709032.250000       0.000000\n",
              "50%    787933.500000       0.000000\n",
              "75%    866911.750000       0.000000\n",
              "max    945999.000000       1.000000"
            ]
          },
          "metadata": {},
          "execution_count": 96
        }
      ]
    },
    {
      "cell_type": "code",
      "metadata": {
        "colab": {
          "base_uri": "https://localhost:8080/"
        },
        "id": "ynirt-CKnkWi",
        "outputId": "12734d29-8e6a-49f5-881c-00cf2598c8f2"
      },
      "source": [
        "df['purchased'].value_counts() #Menghitung value dari kolom purchashed"
      ],
      "execution_count": 97,
      "outputs": [
        {
          "output_type": "execute_result",
          "data": {
            "text/plain": [
              "0    259241\n",
              "1     35237\n",
              "Name: purchased, dtype: int64"
            ]
          },
          "metadata": {},
          "execution_count": 97
        }
      ]
    },
    {
      "cell_type": "code",
      "metadata": {
        "colab": {
          "base_uri": "https://localhost:8080/"
        },
        "id": "KZ7pqnxVn2MM",
        "outputId": "6484885d-65c2-47a5-86e4-16ba18502790"
      },
      "source": [
        "df['purchased'].mode() #Mencari nilai yang sering muncul pada kolom purchased"
      ],
      "execution_count": 98,
      "outputs": [
        {
          "output_type": "execute_result",
          "data": {
            "text/plain": [
              "0    0\n",
              "dtype: int64"
            ]
          },
          "metadata": {},
          "execution_count": 98
        }
      ]
    },
    {
      "cell_type": "code",
      "metadata": {
        "colab": {
          "base_uri": "https://localhost:8080/"
        },
        "id": "PUB-8kJEpcj5",
        "outputId": "9f1bdca6-4c06-4fe5-a5a3-9f9831a22dc8"
      },
      "source": [
        "df['purchased'].median() #mencari nilai tengah data purchased"
      ],
      "execution_count": 99,
      "outputs": [
        {
          "output_type": "execute_result",
          "data": {
            "text/plain": [
              "0.0"
            ]
          },
          "metadata": {},
          "execution_count": 99
        }
      ]
    },
    {
      "cell_type": "code",
      "metadata": {
        "colab": {
          "base_uri": "https://localhost:8080/"
        },
        "id": "w5ZZtG7xpjUz",
        "outputId": "2e9f7071-c4f4-459b-c398-3a211f88dcc0"
      },
      "source": [
        "df['purchased'].mean() #mencari rata rata pada kolomn purchased"
      ],
      "execution_count": 100,
      "outputs": [
        {
          "output_type": "execute_result",
          "data": {
            "text/plain": [
              "0.11965919355605512"
            ]
          },
          "metadata": {},
          "execution_count": 100
        }
      ]
    },
    {
      "cell_type": "markdown",
      "metadata": {
        "id": "PwRFUyPCsdw0"
      },
      "source": [
        "#6 Mathematical Calculation and Analysis\n",
        "Bagian ini berisi perhitungan matematis dan analisa yang diperlukan seperti membuat grafik, dsb.\n"
      ]
    },
    {
      "cell_type": "markdown",
      "metadata": {
        "id": "7MUoLfj8sruU"
      },
      "source": [
        "## Single Sample Hypothesis Testing\n",
        "A/B Testing\n",
        "\n",
        "**H0: μ_purchased = 0**\n",
        "\n",
        "**H1: μ_purchased = 1**\n"
      ]
    },
    {
      "cell_type": "code",
      "metadata": {
        "colab": {
          "base_uri": "https://localhost:8080/",
          "height": 296
        },
        "id": "pIqelgtHzm_W",
        "outputId": "a0d02219-1b16-4ae0-8e6b-94c346bdf699"
      },
      "source": [
        "sns.histplot(df['purchased'],kde=True) #Kernel density estimation (KDE) "
      ],
      "execution_count": 101,
      "outputs": [
        {
          "output_type": "execute_result",
          "data": {
            "text/plain": [
              "<matplotlib.axes._subplots.AxesSubplot at 0x7ff406327450>"
            ]
          },
          "metadata": {},
          "execution_count": 101
        },
        {
          "output_type": "display_data",
          "data": {
            "image/png": "[encoded data removed]",
            "text/plain": [
              "<Figure size 432x288 with 1 Axes>"
            ]
          },
          "metadata": {
            "needs_background": "light"
          }
        }
      ]
    },
    {
      "cell_type": "code",
      "metadata": {
        "colab": {
          "base_uri": "https://localhost:8080/"
        },
        "id": "j4LXHqC6uyXi",
        "outputId": "6062ea61-ecf5-4fa3-a9db-999748565ae8"
      },
      "source": [
        "beli = df['purchased']==1\n",
        "tbeli = df['purchased']==0\n",
        "\n",
        "print('rate of purchased 1:',beli.sum()/beli.count())\n",
        "print(' rate of non purchased 0:',tbeli.sum()/tbeli.count())"
      ],
      "execution_count": 126,
      "outputs": [
        {
          "output_type": "stream",
          "name": "stdout",
          "text": [
            "rate of purchased 1: 0.11965919355605512\n",
            " rate of non purchased 0: 0.8803408064439449\n"
          ]
        }
      ]
    },
    {
      "cell_type": "code",
      "metadata": {
        "colab": {
          "base_uri": "https://localhost:8080/",
          "height": 392
        },
        "id": "a1ddODfT-AXl",
        "outputId": "ae170bfc-9ad5-4655-cb95-675c532af986"
      },
      "source": [
        "purchased = np.random.normal(df.purchased.mean(), df.purchased.std(), 15000)\n",
        "\n",
        "ci = stats.norm.interval(0.95, df.purchased.mean(), df.purchased.std())\n",
        "\n",
        "plt.figure(figsize=(16,5))\n",
        "sns.distplot(purchased, label='Purchased data', color='blue')\n",
        "plt.axvline(df.purchased.mean(), color='red', linewidth=2, label='Purchased (Mean)')\n",
        "\n",
        "plt.axvline(ci[1], color='green', linestyle='dashed', linewidth=2, label='confidence threshold of 95%')\n",
        "plt.axvline(ci[0], color='green', linestyle='dashed', linewidth=2, label='confidence threshold of 95%')\n",
        "\n",
        "plt.axvline(purchased.mean() + t_stat*purchased.std(), color='black', linestyle='dashed', linewidth=2, label = 'Alternative Hypothesis')\n",
        "plt.axvline(purchased.mean() - t_stat*purchased.std(), color='black', linestyle='dashed', linewidth=2)\n",
        "plt.legend()"
      ],
      "execution_count": 106,
      "outputs": [
        {
          "output_type": "stream",
          "name": "stderr",
          "text": [
            "/usr/local/lib/python3.7/dist-packages/seaborn/distributions.py:2619: FutureWarning: `distplot` is a deprecated function and will be removed in a future version. Please adapt your code to use either `displot` (a figure-level function with similar flexibility) or `histplot` (an axes-level function for histograms).\n",
            "  warnings.warn(msg, FutureWarning)\n"
          ]
        },
        {
          "output_type": "execute_result",
          "data": {
            "text/plain": [
              "<matplotlib.legend.Legend at 0x7ff406228950>"
            ]
          },
          "metadata": {},
          "execution_count": 106
        },
        {
          "output_type": "display_data",
          "data": {
            "image/png": "[encoded data removed]",
            "text/plain": [
              "<Figure size 1152x360 with 1 Axes>"
            ]
          },
          "metadata": {
            "needs_background": "light"
          }
        }
      ]
    },
    {
      "cell_type": "markdown",
      "metadata": {
        "id": "vHBT-Sgw4W26"
      },
      "source": [
        "## Two Tailed Hypothesis Testing\n",
        "A/B Testing\n",
        "\n",
        "**H0: μ_control_group != μ_treatment_group**\n",
        "\n",
        "**H1: μ_control_group = μ_treatment_group**"
      ]
    },
    {
      "cell_type": "code",
      "metadata": {
        "colab": {
          "base_uri": "https://localhost:8080/"
        },
        "id": "2lIDeV2d0xMS",
        "outputId": "0a7c6413-d4b2-481a-f853-3b5c076682fa"
      },
      "source": [
        "group_control = df[df['group']=='control']['purchased'].replace({True:1,False:0})\n",
        "group_treatment = df[df['group']=='treatment']['purchased'].replace({True:1,False:0})\n",
        "\n",
        "print('Purchased rate of group control:',group_control.sum()/group_control.count())\n",
        "print('Purchased rate of group treatmeant:',group_treatment.sum()/group_treatment.count())"
      ],
      "execution_count": 110,
      "outputs": [
        {
          "output_type": "stream",
          "name": "stdout",
          "text": [
            "Purchased rate of group control: 0.12039917935897611\n",
            "Purchased rate of group treatmeant: 0.11891957956489856\n"
          ]
        }
      ]
    },
    {
      "cell_type": "code",
      "metadata": {
        "colab": {
          "base_uri": "https://localhost:8080/"
        },
        "id": "7ahxCjg32a9d",
        "outputId": "fffea8c6-0c35-4d28-d629-275e0cd9760e"
      },
      "source": [
        "group_control"
      ],
      "execution_count": 111,
      "outputs": [
        {
          "output_type": "execute_result",
          "data": {
            "text/plain": [
              "0         0\n",
              "1         0\n",
              "4         1\n",
              "5         0\n",
              "7         0\n",
              "         ..\n",
              "294471    0\n",
              "294473    0\n",
              "294474    0\n",
              "294475    0\n",
              "294476    0\n",
              "Name: purchased, Length: 147202, dtype: int64"
            ]
          },
          "metadata": {},
          "execution_count": 111
        }
      ]
    },
    {
      "cell_type": "code",
      "metadata": {
        "colab": {
          "base_uri": "https://localhost:8080/"
        },
        "id": "gEtOzHwX2csE",
        "outputId": "d38a45f3-621d-4525-8b4a-99ef2a211a4c"
      },
      "source": [
        "group_treatment"
      ],
      "execution_count": 112,
      "outputs": [
        {
          "output_type": "execute_result",
          "data": {
            "text/plain": [
              "2         0\n",
              "3         0\n",
              "6         1\n",
              "8         1\n",
              "9         1\n",
              "         ..\n",
              "294462    0\n",
              "294465    0\n",
              "294468    0\n",
              "294472    0\n",
              "294477    0\n",
              "Name: purchased, Length: 147276, dtype: int64"
            ]
          },
          "metadata": {},
          "execution_count": 112
        }
      ]
    },
    {
      "cell_type": "code",
      "metadata": {
        "colab": {
          "base_uri": "https://localhost:8080/"
        },
        "id": "ixbzmFAr2ejX",
        "outputId": "3679eedf-55ab-4f37-c529-e44005f4ad21"
      },
      "source": [
        "t_stat,p_val = stats.ttest_rel(group_control.sample(15000),group_treatment.sample(15000)) #we take 15000 sample of each data to make the size the same.\n",
        "print('P-value:',p_val)\n"
      ],
      "execution_count": 121,
      "outputs": [
        {
          "output_type": "stream",
          "name": "stdout",
          "text": [
            "P-value: 0.7504970739182405\n"
          ]
        }
      ]
    },
    {
      "cell_type": "markdown",
      "metadata": {
        "id": "NXvHgcUU5B99"
      },
      "source": [
        "#7 Hasil\n",
        "\n",
        "berdasarkan  analisa \n",
        "\n",
        "---\n",
        "\n",
        "\n",
        "* berdasarkan MEASURES OF TENDENCY DATA dapat dipastikan bahwa data lebih berpusat pada purchased 0 dari pada purchased 1\n",
        "\n",
        "* berdasarkan Single Sample Hypothesis Testing p_value yang dihasilkan kurang dari 0.05 sehingga bisa disimpulkan bahwa hipotesa 0 adalah benar karena value purchased terbanyak adalah 0\n",
        "\n",
        "* berdasarkan Two Tailed Hypothesis Testing p_value yang dihasilkan lebih dari 0.05 sehingga bisa disimpulkan bahwa hipotesa 1 adalah benar"
      ]
    }
  ]
}