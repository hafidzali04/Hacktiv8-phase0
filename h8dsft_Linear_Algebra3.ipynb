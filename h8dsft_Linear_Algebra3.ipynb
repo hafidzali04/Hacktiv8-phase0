{
  "nbformat": 4,
  "nbformat_minor": 0,
  "metadata": {
    "colab": {
      "name": "h8dsft_Linear_Algebra3.ipynb",
      "provenance": []
    },
    "kernelspec": {
      "name": "python3",
      "display_name": "Python 3"
    },
    "language_info": {
      "name": "python"
    }
  },
  "cells": [
    {
      "cell_type": "markdown",
      "metadata": {
        "id": "TcgIBkpJlAaP"
      },
      "source": [
        "##Non Graded Challenge 6\n",
        "Assignment Instructions\n",
        "\n",
        "---\n",
        "\n",
        "\n",
        "Apakah $\\begin{bmatrix}1\\\\3\\end{bmatrix}$ adalah eigenvector dari $\\begin{bmatrix}1 & -1\\\\6 &-4 \\end{bmatrix}$? \n",
        "\n",
        "Jika iya, berapakah eigenvalue-nya?\n",
        "\n",
        "\n",
        "Assignment Objectives\n",
        "\n",
        "---\n",
        "\n",
        "\n",
        "Non-Graded Assignment ini dibuat guna mengevaluasi konsep Linear Algebra sebagai berikut:\n",
        "\n",
        "* Memahami konsep eigenvalue dan eigenvector\n",
        "* Dapat mencari eigenvalue dan eigenvector"
      ]
    },
    {
      "cell_type": "code",
      "metadata": {
        "id": "132pmbQnkzjz"
      },
      "source": [
        "import numpy as np"
      ],
      "execution_count": 1,
      "outputs": []
    },
    {
      "cell_type": "code",
      "metadata": {
        "colab": {
          "base_uri": "https://localhost:8080/"
        },
        "id": "gBr5untelshx",
        "outputId": "4bfd38f5-f6b2-420e-9cc6-b94713a5af17"
      },
      "source": [
        "A = np.array([\n",
        "    [1, -1],\n",
        "    [6, -4]\n",
        "])\n",
        "v = np.array([1, 3])\n",
        "print('A:\\n',A)\n",
        "print('v:\\n',v)"
      ],
      "execution_count": 8,
      "outputs": [
        {
          "output_type": "stream",
          "name": "stdout",
          "text": [
            "A:\n",
            " [[ 1 -1]\n",
            " [ 6 -4]]\n",
            "v:\n",
            " [1 3]\n"
          ]
        }
      ]
    },
    {
      "cell_type": "code",
      "metadata": {
        "colab": {
          "base_uri": "https://localhost:8080/"
        },
        "id": "72HDIvxJl2rP",
        "outputId": "4624dde8-67e1-4525-d8a0-8421424ec13d"
      },
      "source": [
        "#Melihat apakah vektor v merupakan eigenvector dari matriks A\n",
        "Av = A@v\n",
        "Av"
      ],
      "execution_count": 10,
      "outputs": [
        {
          "output_type": "execute_result",
          "data": {
            "text/plain": [
              "array([-2, -6])"
            ]
          },
          "metadata": {},
          "execution_count": 10
        }
      ]
    },
    {
      "cell_type": "code",
      "metadata": {
        "colab": {
          "base_uri": "https://localhost:8080/"
        },
        "id": "j4RcVQ6rl7mD",
        "outputId": "8d3b5717-5c8c-488d-f7cf-a57e6109db50"
      },
      "source": [
        "-2 * v"
      ],
      "execution_count": 11,
      "outputs": [
        {
          "output_type": "execute_result",
          "data": {
            "text/plain": [
              "array([-2, -6])"
            ]
          },
          "metadata": {},
          "execution_count": 11
        }
      ]
    },
    {
      "cell_type": "markdown",
      "metadata": {
        "id": "vGmc3YAgmfTe"
      },
      "source": [
        "Artinya vektor v merupakan eigenvector dari matriks A"
      ]
    }
  ]
}