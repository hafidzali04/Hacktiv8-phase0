{
  "nbformat": 4,
  "nbformat_minor": 0,
  "metadata": {
    "colab": {
      "name": "h8dsft_Linear_Algebra2.ipynb",
      "provenance": []
    },
    "kernelspec": {
      "name": "python3",
      "display_name": "Python 3"
    },
    "language_info": {
      "name": "python"
    }
  },
  "cells": [
    {
      "cell_type": "markdown",
      "metadata": {
        "id": "SnA5IF-FhOil"
      },
      "source": [
        "##Non Graded Challenge 5\n",
        "Assignment Instructions\n",
        "\n",
        "---\n",
        "\n",
        "\n",
        "\n",
        "\n",
        "*   Buatlah Tensor dibawah ini dengan Python:\n",
        "\n",
        "\n",
        "$$ \\begin{bmatrix} \\begin{bmatrix} 23 & 50 \\\\ 7 & 12 \\\\ \\end{bmatrix} \\begin{bmatrix} 57 & 67 \\\\ 99 & 43 \\end{bmatrix} \\ \\begin{bmatrix} 75 & 21 \\\\ 57 & 12 \\ \\end{bmatrix} \\begin{bmatrix} 87 & 26 \\\\ 18 & 84 \\end{bmatrix} \\end{bmatrix} $$\n",
        "\n",
        "* Lakukan perkalian terhadap matrix berikut:\n",
        "\n",
        "$$ A = \\begin{bmatrix} 23 & 50 & 19 \\\\ 7 & 12 & 109 \\\\ 57 & 67 & 98 \\end{bmatrix} \\begin{bmatrix} 17 \\\\ 22 \\\\ 19 \\end{bmatrix} $$\n",
        "\n",
        "* Lakukan Transpose, hitung determinan, dan inverse terhadap matrix dibawah ini:\n",
        "\n",
        "$$ \\begin{bmatrix} 23 & 50 & 19 \\\\ 7 & 12 & 109 \\\\ 57 & 67 & 98 \\end{bmatrix} $$\n",
        "\n",
        "Assignment Objectives\n",
        "\n",
        "---\n",
        "\n",
        "\n",
        "Non-Graded Assignment ini dibuat guna mengevaluasi konsep Linear Algebra sebagai berikut:\n",
        "\n",
        "* Memahami konsep Matrices and Tensors\n",
        "* Mampu membuat Matrices dan Tensor dengan Python\n",
        "* Mampu menerapkan operasi aritmatika terhadap Matrices"
      ]
    },
    {
      "cell_type": "code",
      "metadata": {
        "id": "4k5i_irog-TH"
      },
      "source": [
        "import numpy as np"
      ],
      "execution_count": 1,
      "outputs": []
    },
    {
      "cell_type": "code",
      "metadata": {
        "colab": {
          "base_uri": "https://localhost:8080/"
        },
        "id": "mwU7l0-0iTrc",
        "outputId": "cd1fa515-a828-4df6-e96c-6c0c1e9fcf6d"
      },
      "source": [
        "T = np.array([\n",
        "    [[[23, 50], [7, 12]], [[57, 67], [99, 43]]],\n",
        "    [[[75, 21], [57, 12]], [[87, 26], [18, 84]]]\n",
        "])\n",
        "print(T.shape)\n",
        "print(T)"
      ],
      "execution_count": 25,
      "outputs": [
        {
          "output_type": "stream",
          "name": "stdout",
          "text": [
            "(2, 2, 2, 2)\n",
            "[[[[23 50]\n",
            "   [ 7 12]]\n",
            "\n",
            "  [[57 67]\n",
            "   [99 43]]]\n",
            "\n",
            "\n",
            " [[[75 21]\n",
            "   [57 12]]\n",
            "\n",
            "  [[87 26]\n",
            "   [18 84]]]]\n"
          ]
        }
      ]
    },
    {
      "cell_type": "code",
      "metadata": {
        "colab": {
          "base_uri": "https://localhost:8080/"
        },
        "id": "Zi7FaDwOimcg",
        "outputId": "7c1ff85a-8f4c-4a25-f801-c88bbb5fc5ce"
      },
      "source": [
        "#Multiply Matrix\n",
        "A = np.array([\n",
        "    [23, 50, 19], \n",
        "    [7, 12, 109], \n",
        "    [57, 67, 98]\n",
        "])\n",
        "\n",
        "B = np.array([17, 22, 19])\n",
        "print('A:\\n',A)\n",
        "print('B:\\n',B,'\\n')\n",
        "print('A*B adalah',A.dot(B))"
      ],
      "execution_count": 24,
      "outputs": [
        {
          "output_type": "stream",
          "name": "stdout",
          "text": [
            "A:\n",
            " [[ 23  50  19]\n",
            " [  7  12 109]\n",
            " [ 57  67  98]]\n",
            "B:\n",
            " [17 22 19] \n",
            "\n",
            "A*B adalah [1852 2454 4305]\n"
          ]
        }
      ]
    },
    {
      "cell_type": "code",
      "metadata": {
        "colab": {
          "base_uri": "https://localhost:8080/"
        },
        "id": "9XF5FVdDjIzy",
        "outputId": "b6287db8-94f2-4c1c-a2ef-fcaf58721f7b"
      },
      "source": [
        "#Transpose Matrix A\n",
        "print(A.T)"
      ],
      "execution_count": 14,
      "outputs": [
        {
          "output_type": "stream",
          "name": "stdout",
          "text": [
            "[[ 23   7  57]\n",
            " [ 50  12  67]\n",
            " [ 19 109  98]]\n"
          ]
        }
      ]
    },
    {
      "cell_type": "code",
      "metadata": {
        "colab": {
          "base_uri": "https://localhost:8080/"
        },
        "id": "M5SNKF0mj8x9",
        "outputId": "89767af8-1f2e-4230-a9ac-4c429b97736a"
      },
      "source": [
        "#Determinant Matrix A\n",
        "print(np.linalg.det(A))"
      ],
      "execution_count": 16,
      "outputs": [
        {
          "output_type": "stream",
          "name": "stdout",
          "text": [
            "131344.0000000002\n"
          ]
        }
      ]
    },
    {
      "cell_type": "code",
      "metadata": {
        "colab": {
          "base_uri": "https://localhost:8080/"
        },
        "id": "vTZ818MOkNiS",
        "outputId": "c102e61c-5e08-4c51-9c9e-327b0d197f1b"
      },
      "source": [
        "#Invers Matrix A\n",
        "print(np.linalg.inv(A))"
      ],
      "execution_count": 18,
      "outputs": [
        {
          "output_type": "stream",
          "name": "stdout",
          "text": [
            "[[-0.0466485  -0.02761451  0.03975819]\n",
            " [ 0.04208034  0.00891552 -0.01807467]\n",
            " [-0.00163692  0.0099662  -0.00056341]]\n"
          ]
        }
      ]
    }
  ]
}