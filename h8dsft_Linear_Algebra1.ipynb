{
  "nbformat": 4,
  "nbformat_minor": 0,
  "metadata": {
    "colab": {
      "name": "h8dsft_Linear_Algebra1.ipynb",
      "provenance": []
    },
    "kernelspec": {
      "name": "python3",
      "display_name": "Python 3"
    },
    "language_info": {
      "name": "python"
    }
  },
  "cells": [
    {
      "cell_type": "markdown",
      "metadata": {
        "id": "AOyRlXNl-7Lt"
      },
      "source": [
        "##Non Graded Challenge 4\n",
        "Assignment Instructions\n",
        "Buatlah Vector dibawah ini dengan Python:\n",
        "$$ \\begin{bmatrix} 17 \\\\ 22 \\\\ 19 \\end{bmatrix} $$\n",
        "\n",
        "Diberikan 3 buah vektor 3 dimensi: $$ A= \\begin{bmatrix} 17 \\\\ 22 \\\\ 19 \\end{bmatrix} ,B= \\begin{bmatrix} 10 \\\\ 20 \\\\ 11 \\end{bmatrix}, C= \\begin{bmatrix} 5 \\\\ 12 \\\\ 9 \\end{bmatrix} $$\n",
        "Hitunglah:\n",
        "\n",
        "A+B\n",
        "\n",
        "B-C\n",
        "\n",
        "A dot C\n",
        "\n",
        "A x B\n",
        "\n",
        "norm A\n",
        "\n",
        "Sudut antara vektor A dan B\n",
        "\n",
        "Buatlah plot dari vector berikut ini kedalam bidang 2D:\n",
        "\n",
        "$$ U = \\begin{bmatrix} 2 \\\\ 5 \\end{bmatrix}, V = \\begin{bmatrix} 3 \\\\ 1 \\end{bmatrix} $$"
      ]
    },
    {
      "cell_type": "code",
      "metadata": {
        "id": "y9TRQamN-5Pu"
      },
      "source": [
        "import numpy as np\n",
        "import matplotlib.pyplot as plt"
      ],
      "execution_count": 1,
      "outputs": []
    },
    {
      "cell_type": "code",
      "metadata": {
        "colab": {
          "base_uri": "https://localhost:8080/"
        },
        "id": "FqpXXshm_cIA",
        "outputId": "f9d73194-6159-4bfc-88fc-3cc97d4f21ae"
      },
      "source": [
        "v = np.array([17, 22, 19])\n",
        "v"
      ],
      "execution_count": 3,
      "outputs": [
        {
          "output_type": "execute_result",
          "data": {
            "text/plain": [
              "array([17, 22, 19])"
            ]
          },
          "metadata": {},
          "execution_count": 3
        }
      ]
    },
    {
      "cell_type": "code",
      "metadata": {
        "id": "ZSS1B3jD_h0M"
      },
      "source": [
        "A = np.array([17, 22, 19])\n",
        "B = np.array([10, 20, 11])\n",
        "C = np.array([5, 12, 9])"
      ],
      "execution_count": 4,
      "outputs": []
    },
    {
      "cell_type": "code",
      "metadata": {
        "colab": {
          "base_uri": "https://localhost:8080/"
        },
        "id": "qNBKLDZQ_nWH",
        "outputId": "df3d0c42-3360-49e5-d904-ad9c99a78950"
      },
      "source": [
        "#Menghitung A+B\n",
        "A + B"
      ],
      "execution_count": 5,
      "outputs": [
        {
          "output_type": "execute_result",
          "data": {
            "text/plain": [
              "array([27, 42, 30])"
            ]
          },
          "metadata": {},
          "execution_count": 5
        }
      ]
    },
    {
      "cell_type": "code",
      "metadata": {
        "colab": {
          "base_uri": "https://localhost:8080/"
        },
        "id": "RNrLZmEp_uaU",
        "outputId": "2b9b1853-fef9-425e-9d86-7a2d03eaae5d"
      },
      "source": [
        "#Menghitung B-C\n",
        "B-C"
      ],
      "execution_count": 6,
      "outputs": [
        {
          "output_type": "execute_result",
          "data": {
            "text/plain": [
              "array([5, 8, 2])"
            ]
          },
          "metadata": {},
          "execution_count": 6
        }
      ]
    },
    {
      "cell_type": "code",
      "metadata": {
        "colab": {
          "base_uri": "https://localhost:8080/"
        },
        "id": "I_ZaCn1w_8L3",
        "outputId": "f231df9a-b613-4633-fad1-479239665c64"
      },
      "source": [
        "#Mencari A.dot(C)\n",
        "A.dot(C)"
      ],
      "execution_count": 7,
      "outputs": [
        {
          "output_type": "execute_result",
          "data": {
            "text/plain": [
              "520"
            ]
          },
          "metadata": {},
          "execution_count": 7
        }
      ]
    },
    {
      "cell_type": "code",
      "metadata": {
        "colab": {
          "base_uri": "https://localhost:8080/"
        },
        "id": "f4yUMUPpAB5J",
        "outputId": "70328ac9-13ad-4d4f-83e5-8e58aa99b1a6"
      },
      "source": [
        "#Mengitung AxB\n",
        "A * B"
      ],
      "execution_count": 8,
      "outputs": [
        {
          "output_type": "execute_result",
          "data": {
            "text/plain": [
              "array([170, 440, 209])"
            ]
          },
          "metadata": {},
          "execution_count": 8
        }
      ]
    },
    {
      "cell_type": "code",
      "metadata": {
        "colab": {
          "base_uri": "https://localhost:8080/"
        },
        "id": "Oa58oSPXAM64",
        "outputId": "0b144740-c758-42cb-87ac-46907704f4be"
      },
      "source": [
        "#Norm A\n",
        "np.linalg.norm(A)"
      ],
      "execution_count": 10,
      "outputs": [
        {
          "output_type": "execute_result",
          "data": {
            "text/plain": [
              "33.67491648096547"
            ]
          },
          "metadata": {},
          "execution_count": 10
        }
      ]
    },
    {
      "cell_type": "code",
      "metadata": {
        "colab": {
          "base_uri": "https://localhost:8080/"
        },
        "id": "xjVRa0KTAR9p",
        "outputId": "e70d9eb5-556c-4c07-c2cf-4608fac5d030"
      },
      "source": [
        "#Sudut antara vector A dan B\n",
        "def vector_angle(a, b):\n",
        "    cos_theta = a.dot(b) / np.linalg.norm(a) / np.linalg.norm(b)\n",
        "    return np.arccos(np.clip(cos_theta, -1, 1))\n",
        "\n",
        "theta = vector_angle(A,B)\n",
        "print(\"Angle  = \", round(theta, 3))\n",
        "print(\"Radian = \", round((theta * 180 / np.pi), 2), \"degrees\")"
      ],
      "execution_count": 17,
      "outputs": [
        {
          "output_type": "stream",
          "name": "stdout",
          "text": [
            "Angle  =  0.22\n",
            "Radian =  12.59 degrees\n"
          ]
        }
      ]
    },
    {
      "cell_type": "code",
      "metadata": {
        "id": "_dVDxM-dAyg6"
      },
      "source": [
        "u = np.array([2,5])\n",
        "v = np.array([3,1])"
      ],
      "execution_count": 18,
      "outputs": []
    },
    {
      "cell_type": "code",
      "metadata": {
        "id": "SDd8mBLQCF4t"
      },
      "source": [
        "#function to draw arrow\n",
        "def plot_vector2d(vector2d, origin=[0, 0],  **options):\n",
        "    return plt.arrow(origin[0], origin[1], vector2d[0], vector2d[1],\n",
        "                    head_width=0.2, head_length=0.3, length_includes_head=True,\n",
        "                    **options)"
      ],
      "execution_count": 24,
      "outputs": []
    },
    {
      "cell_type": "code",
      "metadata": {
        "colab": {
          "base_uri": "https://localhost:8080/",
          "height": 269
        },
        "id": "jvRRBANKCTSa",
        "outputId": "be068f35-b804-4c7e-c52b-faec6a81be12"
      },
      "source": [
        "plot_vector2d(u, color='r')\n",
        "plot_vector2d(v, color='b')\n",
        "plt.annotate('u', (2.05, 5), size = 13, color = 'r')\n",
        "plt.annotate('v', (3.05, 1), size = 13, color = 'b')\n",
        "plt.axis([0, 6, 0, 6])\n",
        "plt.grid()\n",
        "plt.show()"
      ],
      "execution_count": 27,
      "outputs": [
        {
          "output_type": "display_data",
          "data": {
            "image/png": "[encoded data removed]",
            "text/plain": [
              "<Figure size 432x288 with 1 Axes>"
            ]
          },
          "metadata": {
            "needs_background": "light"
          }
        }
      ]
    }
  ]
}