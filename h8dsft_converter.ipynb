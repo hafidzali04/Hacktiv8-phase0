{
  "nbformat": 4,
  "nbformat_minor": 0,
  "metadata": {
    "colab": {
      "name": "h8dsft_converter.ipynb",
      "provenance": [],
      "collapsed_sections": []
    },
    "kernelspec": {
      "name": "python3",
      "display_name": "Python 3"
    },
    "language_info": {
      "name": "python"
    }
  },
  "cells": [
    {
      "cell_type": "markdown",
      "metadata": {
        "id": "UKPHhO0UlSNl"
      },
      "source": [
        "▪ Buatlah sebuah function yang dapat mengkonversi\n",
        "suhu dari kelvin ke celcius, dan celcius ke kelvin. \n",
        "\n",
        "▪ Buatlah sebuah function yang dapat mengkonversi\n",
        "suhu ke fahrenheit. Tambahkan parameter untuk\n",
        "memastikan bahwa argumen yang dimasukan adalah\n",
        "celcius atau kelvin. Panggil function yang pertama jika\n",
        "diperlukan. \n",
        "\n",
        "▪ Buatlah sebuah function yang dapat mengkonversi\n",
        "suhu dari fahrenheit. Berikan argumen untuk\n",
        "memastikan bahwa outputnya dalah celcius atau kelvin. \n",
        "\n",
        "▪ Berikan dokumentasi pada setiap baris kode yang\n",
        "kalian tulis."
      ]
    },
    {
      "cell_type": "code",
      "metadata": {
        "id": "IccjXrN8Nlz-",
        "colab": {
          "base_uri": "https://localhost:8080/"
        },
        "outputId": "45f4da69-009d-4036-fb86-e78b05175de1"
      },
      "source": [
        "#Fungsi untuk mengkonversi Kelvin ke Celcius dan Celcius Ke Kelvin\n",
        "def kelvin_celcius(mode=\"Kelvin\",bil=None):\n",
        "  if mode == \"Kelvin\":\n",
        "    conv=float(bil-273);#Rumus Kelvin To Celcius\n",
        "    print(f'hasil dari Konversi Suhu {bil} K adalah {conv} C\\n')\n",
        "  else:\n",
        "    conv=float(bil+273);#Rumus Celcius To Kelvin\n",
        "    print(f'hasil dari Konversi Suhu {bil} C adalah {conv} K\\n')\n",
        "  return conv\n",
        "kelvin_celcius(\"Celcius\",25)\n",
        "\n",
        "#Fungsi untuk mengkonversi Kelvin/Celcius Ke Fahrenheit\n",
        "def allto_fahrenheit(mode=\"Kelvin\",bil=None):\n",
        "  if mode == \"Kelvin\":\n",
        "    c=kelvin_celcius(mode,bil)#Memanggil Fungsi untuk konversi Kelvin To Celcius\n",
        "    f= float(((9*c)/5)+32)#Mengkonversi Celcius To Fahrenheit\n",
        "    print(f'hasil dari Konversi Suhu {c} C adalah {f} F\\n')\n",
        "  else:\n",
        "    f=float((9*bill)/(5+32))#Mengkonversi Celcius To Fahrenheit\n",
        "    print(f'hasil dari Konversi Suhu {bill} C adalah {f} F\\n')\n",
        "  #return f\n",
        "allto_fahrenheit(\"Kelvin\",350)\n",
        "\n",
        "#Fungsi untuk mengkonversi Fahrenheit ke Kelvin/Celcius \n",
        "def fto_ck(mode=\"Celcius\",bill=None):\n",
        "  if mode == \"Celcius\":\n",
        "    #(77°F − 32) × 5/9 \n",
        "    fck=float((bill-32)*5)/9\n",
        "    print(f'hasil dari Konversi Suhu {bill} F adalah {fck} C\\n')\n",
        "  else:\n",
        "    fck=float(((bill-32)*5)/9)+273\n",
        "    print(f'hasil dari Konversi Suhu {bill} F adalah {fck} K\\n')\n",
        "fto_ck(\"Celcius\",77)"
      ],
      "execution_count": 36,
      "outputs": [
        {
          "output_type": "stream",
          "name": "stdout",
          "text": [
            "hasil dari Konversi Suhu 25 C adalah 298.0 K\n",
            "\n",
            "hasil dari Konversi Suhu 350 K adalah 77.0 C\n",
            "\n",
            "hasil dari Konversi Suhu 77.0 C adalah 170.6 F\n",
            "\n",
            "hasil dari Konversi Suhu 77 F adalah 25.0 C\n",
            "\n"
          ]
        }
      ]
    }
  ]
}