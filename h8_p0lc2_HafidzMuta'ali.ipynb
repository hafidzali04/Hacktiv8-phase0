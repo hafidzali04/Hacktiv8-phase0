{
  "nbformat": 4,
  "nbformat_minor": 0,
  "metadata": {
    "colab": {
      "name": "h8_p0lc2_HafidzMuta'ali.ipynb",
      "provenance": [],
      "collapsed_sections": []
    },
    "kernelspec": {
      "name": "python3",
      "display_name": "Python 3"
    },
    "language_info": {
      "name": "python"
    }
  },
  "cells": [
    {
      "cell_type": "markdown",
      "metadata": {
        "id": "wFt2-qU5hlGB"
      },
      "source": [
        "##1. Perkenalan\n",
        "Nama: Hafidz Muta'ali\n",
        "\n",
        "Batch: 006\n",
        "\n",
        "Live Code 2\n",
        "\n",
        "---\n",
        "\n"
      ]
    },
    {
      "cell_type": "markdown",
      "metadata": {
        "id": "dv9WuOYoiJUG"
      },
      "source": [
        "##2. Soal\n",
        "**Problems**\n",
        "\n",
        "---\n",
        "\n",
        "\n",
        "1. Salah satu ruang lingkup Natural Language Processing (NLP) adalah mengukur kesamaan konteks antar kalimat. Untuk mengetahui dua kalimat memiliki konteks yang sama atau tidak, kita mengukurnya dengan cosine similarity. Cosine similarity sejatinya mengukur 'jarak' antar dua vektor yang mana vektor-vektor tersebut berisikan angka-angka, sehingga kita perlu menerjemahkan kalimat menjadi list angka (encoding). Ada banyak metode encoding yang dapat digunakan untuk menerjemahkan kaliamat ke angka, salah satunya adalah dengan menghitung frekuensi kemunculan kata pada setiap kalimat.\n",
        "\n",
        "Kalimat 1: Julie loves me more than Linda loves me\n",
        "\n",
        "Kalimat 2: Jane likes me more than Julie loves me\n",
        "\n",
        "Berikut tabel yang berisikan frekuensi kata yang muncul pada kedua kalimat:\n",
        "\n",
        "Kata\tKalimat 1\tKalimat 2\n",
        "\n",
        "me\t   2\t          2\n",
        "\n",
        "Jane\t0\t1\n",
        "\n",
        "Julie\t1\t1\n",
        "\n",
        "Linda\t1\t0\n",
        "\n",
        "likes\t0\t1\n",
        "\n",
        "loves\t2\t1\n",
        "\n",
        "more\t1\t1\n",
        "\n",
        "than\t1\t1\n",
        "* Buatlah vektor yang merupakan representasi masing-masing kalimat berdasarkan tabel di atas dan hitung cosine similarity antar kedua vektor. Apakah kedua kalimat memiliki konteks yang serupa? jika iya, mengapa dan jika tidak, mengapa (jawab berdasarkan hasil perhitungan cosine similaritynya)?\n",
        "\n",
        "2. Menggunakan konsep integral untuk menghitung luas dibawah kurva, tentukan luas negara Swiss jika diketahui koordinat batas-batasnya! Dataset koordinat batas Swiss dapat diakses pada link berikut: https://raw.githubusercontent.com/fahmimnalfrzki/Dataset/main/Swiss_boundaries.txt?token=AEZDEHXBTS7OMF32RTYPKZDA2FELA\n",
        "\n",
        "Hint dan Note:\n",
        "\n",
        "---\n",
        "\n",
        "\n",
        "\n",
        "Longitude adalah sumbu x dan latitude adalah sumbu y nya.\n",
        "Wilayah Swiss dapat dibagi menjadi dua bagian yaitu Northern dan Southern (dapat menggunakan acuan nilai tengah latitude dimana nilai maksimum ditambah nilai minimum lalu dibagi dua. Di atas nilai tengah northern dan di bawah nilai tengah southern) supaya mempermudah dalam menghitung Integral "
      ]
    },
    {
      "cell_type": "markdown",
      "metadata": {
        "id": "XzThrNcyivFV"
      },
      "source": [
        "##3. Import Pustaka\n",
        "Cell pertama pada notebook harus berisi dan hanya berisi semua library yang digunakan dalam project."
      ]
    },
    {
      "cell_type": "code",
      "metadata": {
        "id": "XCWLJcXXgqj_"
      },
      "source": [
        "import pandas as pd\n",
        "import numpy as np\n",
        "import matplotlib.pyplot as plt\n",
        "from scipy import integrate"
      ],
      "execution_count": 87,
      "outputs": []
    },
    {
      "cell_type": "markdown",
      "metadata": {
        "id": "DpTJ3gTZuwRA"
      },
      "source": [
        "##4. Data Loading\n",
        "Bagian ini berisi proses data loading yang kemudian dilanjutkan dengan explorasi data secara sederhana."
      ]
    },
    {
      "cell_type": "code",
      "metadata": {
        "colab": {
          "base_uri": "https://localhost:8080/"
        },
        "id": "Rw0IkYhKjR2i",
        "outputId": "202fb2b1-d80a-440d-a621-c1aae8ea8b32"
      },
      "source": [
        "#1\n",
        "#Membuat Vektor Kalimat 1 as K_1 dan Kalimat 2 as K_2\n",
        "K_1 = np.array([2, 0, 1, 1, 0, 2, 1 ,1])\n",
        "K_2 = np.array([2, 1, 1, 0, 1, 1, 1 ,1])\n",
        "print(K_1)\n",
        "print(K_2)"
      ],
      "execution_count": 81,
      "outputs": [
        {
          "output_type": "stream",
          "name": "stdout",
          "text": [
            "[2 0 1 1 0 2 1 1]\n",
            "[2 1 1 0 1 1 1 1]\n"
          ]
        }
      ]
    },
    {
      "cell_type": "code",
      "metadata": {
        "colab": {
          "base_uri": "https://localhost:8080/",
          "height": 424
        },
        "id": "bF95ggvEu-lS",
        "outputId": "0e421ba7-7c3e-4210-a534-c4a30d13d289"
      },
      "source": [
        "#2\n",
        "df = pd.read_csv('https://raw.githubusercontent.com/fahmimnalfrzki/Dataset/main/Swiss_boundaries.txt?token=AEZDEHXBTS7OMF32RTYPKZDA2FELA')\n",
        "df"
      ],
      "execution_count": 82,
      "outputs": [
        {
          "output_type": "execute_result",
          "data": {
            "text/html": [
              "<div>\n",
              "<style scoped>\n",
              "    .dataframe tbody tr th:only-of-type {\n",
              "        vertical-align: middle;\n",
              "    }\n",
              "\n",
              "    .dataframe tbody tr th {\n",
              "        vertical-align: top;\n",
              "    }\n",
              "\n",
              "    .dataframe thead th {\n",
              "        text-align: right;\n",
              "    }\n",
              "</style>\n",
              "<table border=\"1\" class=\"dataframe\">\n",
              "  <thead>\n",
              "    <tr style=\"text-align: right;\">\n",
              "      <th></th>\n",
              "      <th>longitude</th>\n",
              "      <th>latitude</th>\n",
              "    </tr>\n",
              "  </thead>\n",
              "  <tbody>\n",
              "    <tr>\n",
              "      <th>0</th>\n",
              "      <td>9.56672</td>\n",
              "      <td>47.54045</td>\n",
              "    </tr>\n",
              "    <tr>\n",
              "      <th>1</th>\n",
              "      <td>9.55980</td>\n",
              "      <td>47.50209</td>\n",
              "    </tr>\n",
              "    <tr>\n",
              "      <th>2</th>\n",
              "      <td>9.59660</td>\n",
              "      <td>47.46944</td>\n",
              "    </tr>\n",
              "    <tr>\n",
              "      <th>3</th>\n",
              "      <td>9.64965</td>\n",
              "      <td>47.45861</td>\n",
              "    </tr>\n",
              "    <tr>\n",
              "      <th>4</th>\n",
              "      <td>9.67035</td>\n",
              "      <td>47.39069</td>\n",
              "    </tr>\n",
              "    <tr>\n",
              "      <th>...</th>\n",
              "      <td>...</td>\n",
              "      <td>...</td>\n",
              "    </tr>\n",
              "    <tr>\n",
              "      <th>273</th>\n",
              "      <td>9.03333</td>\n",
              "      <td>47.68833</td>\n",
              "    </tr>\n",
              "    <tr>\n",
              "      <th>274</th>\n",
              "      <td>9.08264</td>\n",
              "      <td>47.68541</td>\n",
              "    </tr>\n",
              "    <tr>\n",
              "      <th>275</th>\n",
              "      <td>9.26110</td>\n",
              "      <td>47.66284</td>\n",
              "    </tr>\n",
              "    <tr>\n",
              "      <th>276</th>\n",
              "      <td>9.47832</td>\n",
              "      <td>47.57585</td>\n",
              "    </tr>\n",
              "    <tr>\n",
              "      <th>277</th>\n",
              "      <td>9.56672</td>\n",
              "      <td>47.54045</td>\n",
              "    </tr>\n",
              "  </tbody>\n",
              "</table>\n",
              "<p>278 rows × 2 columns</p>\n",
              "</div>"
            ],
            "text/plain": [
              "     longitude  latitude\n",
              "0      9.56672  47.54045\n",
              "1      9.55980  47.50209\n",
              "2      9.59660  47.46944\n",
              "3      9.64965  47.45861\n",
              "4      9.67035  47.39069\n",
              "..         ...       ...\n",
              "273    9.03333  47.68833\n",
              "274    9.08264  47.68541\n",
              "275    9.26110  47.66284\n",
              "276    9.47832  47.57585\n",
              "277    9.56672  47.54045\n",
              "\n",
              "[278 rows x 2 columns]"
            ]
          },
          "metadata": {},
          "execution_count": 82
        }
      ]
    },
    {
      "cell_type": "markdown",
      "metadata": {
        "id": "0d-SstHXvCbE"
      },
      "source": [
        "##5. Mathematical Calculations\n",
        "Bagian ini berisi proses pengolahan data dengan perhitungan matematis yang diperlukan."
      ]
    },
    {
      "cell_type": "code",
      "metadata": {
        "colab": {
          "base_uri": "https://localhost:8080/"
        },
        "id": "rH7TVhQMkXjy",
        "outputId": "2cf1da59-4eca-439d-f668-33f977aa935d"
      },
      "source": [
        "#1. Menghitung Cosine similarity\n",
        "similarity_scores = K_1.dot(K_2)/(np.linalg.norm(K_1) * np.linalg.norm(K_2))\n",
        "print(similarity_scores)"
      ],
      "execution_count": 83,
      "outputs": [
        {
          "output_type": "stream",
          "name": "stdout",
          "text": [
            "0.8215838362577491\n"
          ]
        }
      ]
    },
    {
      "cell_type": "code",
      "metadata": {
        "colab": {
          "base_uri": "https://localhost:8080/"
        },
        "id": "Fk9N0yBJpgkZ",
        "outputId": "d4f62637-dbb9-4894-8a79-31cb4bed30c0"
      },
      "source": [
        "#2. Mencari nilai Min dan Max dari latitude\n",
        "latitude_min=df['latitude'].min()\n",
        "print('Nilai minimum dari latitude: ',latitude_min)\n",
        "latitude_max=df['latitude'].max()\n",
        "print('Nilai maximum dari latitude: ',latitude_max)"
      ],
      "execution_count": 84,
      "outputs": [
        {
          "output_type": "stream",
          "name": "stdout",
          "text": [
            "Nilai minimum dari latitude:  45.82944000000003\n",
            "Nilai maximum dari latitude:  47.80666000000008\n"
          ]
        }
      ]
    },
    {
      "cell_type": "code",
      "metadata": {
        "colab": {
          "base_uri": "https://localhost:8080/"
        },
        "id": "4wlOK-eKqRsu",
        "outputId": "7abb4d53-7480-4a71-a3a4-d0854d35a5d3"
      },
      "source": [
        "nilai_tengah=(latitude_max+latitude_min)/2\n",
        "nilai_tengah"
      ],
      "execution_count": 85,
      "outputs": [
        {
          "output_type": "execute_result",
          "data": {
            "text/plain": [
              "46.818050000000056"
            ]
          },
          "metadata": {},
          "execution_count": 85
        }
      ]
    },
    {
      "cell_type": "code",
      "metadata": {
        "colab": {
          "base_uri": "https://localhost:8080/",
          "height": 282
        },
        "id": "YhFBhGvmq7Pz",
        "outputId": "15b20c88-7c2a-496f-b43b-71c280df4e82"
      },
      "source": [
        "#Menghitung Luas wilayah Swiss\n",
        "x=df['longitude']\n",
        "y=df['latitude']\n",
        "plt.plot(x,y)\n",
        "Luas=integrate.trapz(y,x)\n",
        "print(Luas)"
      ],
      "execution_count": 86,
      "outputs": [
        {
          "output_type": "stream",
          "name": "stdout",
          "text": [
            "4.8896802435500035\n"
          ]
        },
        {
          "output_type": "display_data",
          "data": {
            "image/png": "[encoded data removed]",
            "text/plain": [
              "<Figure size 432x288 with 1 Axes>"
            ]
          },
          "metadata": {
            "needs_background": "light"
          }
        }
      ]
    },
    {
      "cell_type": "markdown",
      "metadata": {
        "id": "oYGtJIqtvTbJ"
      },
      "source": [
        "##6. Hasil\n",
        "Pada bab terakhir ini berisi jawaban dari pertanyaan soal.\n"
      ]
    },
    {
      "cell_type": "markdown",
      "metadata": {
        "id": "pSSDUVhVoHJm"
      },
      "source": [
        "Jawaban nomer 1: \n",
        "\n",
        "Kedua kalimat memiliki konteks yang serupa berdasarkan hasil dari cosine similarity yang cukup tinggi yaitu sebesar 0.8215838362577491"
      ]
    },
    {
      "cell_type": "markdown",
      "metadata": {
        "id": "kczJYCS8vXgY"
      },
      "source": [
        "Jawaban nomer 2:\n",
        "\n",
        "Luas Negara Swiss berdasarkan perhitungan integral longtitude dan latitude adalah  4.8896802435500035"
      ]
    }
  ]
}