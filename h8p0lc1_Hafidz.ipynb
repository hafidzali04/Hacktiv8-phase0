{
  "nbformat": 4,
  "nbformat_minor": 0,
  "metadata": {
    "colab": {
      "name": "Livecode1.ipynb",
      "provenance": []
    },
    "kernelspec": {
      "name": "python3",
      "display_name": "Python 3"
    },
    "language_info": {
      "name": "python"
    }
  },
  "cells": [
    {
      "cell_type": "markdown",
      "metadata": {
        "id": "f5grnotwfGST"
      },
      "source": [
        "#1. Perkenalan\n",
        "Nama  : Hafidz Muta'ali\n",
        "\n",
        "Batch : FTDS 006\n",
        "\n",
        "\n",
        "\n",
        "---\n",
        "\n",
        "\n",
        "Keterangan kolom:\n",
        "\n",
        "time(s)   : Detik ke- pengukuran\n",
        "\n",
        "V_m:  Voltage/tegangan yang terukur tiap waktu\n",
        "\n",
        "Current (A):  Kuat arus terukur tiap waktu\n",
        "\n",
        "Cycle:  Nomor siklus charge-discharge baterai\n",
        "\n",
        "Cap:  Kapasitas baterai tiap waktu"
      ]
    },
    {
      "cell_type": "markdown",
      "metadata": {
        "id": "qSqOJuAGfP5M"
      },
      "source": [
        "# 2. Soal\n",
        "Problems\n",
        "Kamu adalah seorang data scientist yang bekerja di salah satu perusahaan manufaktur baterai Lithium ion. Tim produksi meminta kamu untuk mengecek apakah baterai yang mereka buat dalam kondisi bagus atau tidak. Sebelum melakukan pengecekan lebih lanjut, kamu diminta untuk menghitung hambatan/resistansi dan Daya setiap detik:\n",
        "\n",
        "R=V/I\n",
        "\n",
        "P=V.I\n",
        "\n",
        "\n",
        "\n",
        "---\n",
        "\n",
        "\n",
        "R adalah Kapasitas dalam satuan Ohm\n",
        "\n",
        "P adalah Daya dalam Watt\n",
        "\n",
        "I adalah kuat arus dalam satuan Ampere\n",
        "\n",
        "V adalah tegangan dalam satuan Volt\n",
        "\n",
        "\n",
        "\n",
        "---\n",
        "\n",
        "\n",
        "a. Buatlah dua fungsi eksplisit masing-masing memuat perhitungan hambatan (R) dan daya (P) yang nantinya akan digunakan untuk perhitungan\n",
        "\n",
        "b. Buat kolom baru dengan nama kolom R/P berisikan hasil perhitungan daya/hambatan dengan kriteria untuk Kapasitas >=2.5 hitung daya, Kapasitas <2.5 hitung nilai hambatan. (Hint: Gunakan for loop dan if statement untuk mengerjakan perintah nomor b, kamu bisa menggunakan list untuk menyimpan perhitungan sementara, setelahnya dapat dimasukkan ke kolom R/P).\n",
        "\n",
        "c. Hitunglah rata-rata nilai kapasitas untuk arus = 1 Ampere dan cycle ganjil."
      ]
    },
    {
      "cell_type": "markdown",
      "metadata": {
        "id": "z6hcfzRgfp1Y"
      },
      "source": [
        "# 3. Import pustaka yang dibutuhkan"
      ]
    },
    {
      "cell_type": "code",
      "metadata": {
        "id": "rZHXO7W7er5f"
      },
      "source": [
        "import pandas as pd\n",
        "import numpy as np"
      ],
      "execution_count": 171,
      "outputs": []
    },
    {
      "cell_type": "markdown",
      "metadata": {
        "id": "sCYXQuQLf1Iy"
      },
      "source": [
        "#4. Data Loading\n",
        "Bagian ini berisi proses data loading yang kemudian dilanjutkan dengan explorasi data secara sederhana."
      ]
    },
    {
      "cell_type": "code",
      "metadata": {
        "colab": {
          "base_uri": "https://localhost:8080/",
          "height": 424
        },
        "id": "h88oxgxXf01F",
        "outputId": "b11ddd44-ecd6-482b-b53d-9d49e459ce17"
      },
      "source": [
        "df = pd.read_excel('https://github.com/hafidzali04/Hacktiv8-phase0/blob/main/data/NMC1-9.xlsx?raw=true')\n",
        "df"
      ],
      "execution_count": 172,
      "outputs": [
        {
          "output_type": "execute_result",
          "data": {
            "text/html": [
              "<div>\n",
              "<style scoped>\n",
              "    .dataframe tbody tr th:only-of-type {\n",
              "        vertical-align: middle;\n",
              "    }\n",
              "\n",
              "    .dataframe tbody tr th {\n",
              "        vertical-align: top;\n",
              "    }\n",
              "\n",
              "    .dataframe thead th {\n",
              "        text-align: right;\n",
              "    }\n",
              "</style>\n",
              "<table border=\"1\" class=\"dataframe\">\n",
              "  <thead>\n",
              "    <tr style=\"text-align: right;\">\n",
              "      <th></th>\n",
              "      <th>time(s)</th>\n",
              "      <th>V_m</th>\n",
              "      <th>Current (A)</th>\n",
              "      <th>Cycle</th>\n",
              "      <th>Cap</th>\n",
              "    </tr>\n",
              "  </thead>\n",
              "  <tbody>\n",
              "    <tr>\n",
              "      <th>0</th>\n",
              "      <td>0</td>\n",
              "      <td>4.098</td>\n",
              "      <td>0.997</td>\n",
              "      <td>1</td>\n",
              "      <td>2.840817</td>\n",
              "    </tr>\n",
              "    <tr>\n",
              "      <th>1</th>\n",
              "      <td>1</td>\n",
              "      <td>4.096</td>\n",
              "      <td>0.998</td>\n",
              "      <td>1</td>\n",
              "      <td>2.840817</td>\n",
              "    </tr>\n",
              "    <tr>\n",
              "      <th>2</th>\n",
              "      <td>2</td>\n",
              "      <td>4.094</td>\n",
              "      <td>0.999</td>\n",
              "      <td>1</td>\n",
              "      <td>2.840817</td>\n",
              "    </tr>\n",
              "    <tr>\n",
              "      <th>3</th>\n",
              "      <td>3</td>\n",
              "      <td>4.093</td>\n",
              "      <td>0.998</td>\n",
              "      <td>1</td>\n",
              "      <td>2.840817</td>\n",
              "    </tr>\n",
              "    <tr>\n",
              "      <th>4</th>\n",
              "      <td>4</td>\n",
              "      <td>4.092</td>\n",
              "      <td>0.999</td>\n",
              "      <td>1</td>\n",
              "      <td>2.840817</td>\n",
              "    </tr>\n",
              "    <tr>\n",
              "      <th>...</th>\n",
              "      <td>...</td>\n",
              "      <td>...</td>\n",
              "      <td>...</td>\n",
              "      <td>...</td>\n",
              "      <td>...</td>\n",
              "    </tr>\n",
              "    <tr>\n",
              "      <th>90977</th>\n",
              "      <td>90977</td>\n",
              "      <td>2.506</td>\n",
              "      <td>1.002</td>\n",
              "      <td>9</td>\n",
              "      <td>2.770180</td>\n",
              "    </tr>\n",
              "    <tr>\n",
              "      <th>90978</th>\n",
              "      <td>90978</td>\n",
              "      <td>2.504</td>\n",
              "      <td>1.002</td>\n",
              "      <td>9</td>\n",
              "      <td>2.770180</td>\n",
              "    </tr>\n",
              "    <tr>\n",
              "      <th>90979</th>\n",
              "      <td>90979</td>\n",
              "      <td>2.502</td>\n",
              "      <td>1.002</td>\n",
              "      <td>9</td>\n",
              "      <td>2.770180</td>\n",
              "    </tr>\n",
              "    <tr>\n",
              "      <th>90980</th>\n",
              "      <td>90980</td>\n",
              "      <td>2.500</td>\n",
              "      <td>1.002</td>\n",
              "      <td>9</td>\n",
              "      <td>2.770180</td>\n",
              "    </tr>\n",
              "    <tr>\n",
              "      <th>90981</th>\n",
              "      <td>90981</td>\n",
              "      <td>2.497</td>\n",
              "      <td>1.002</td>\n",
              "      <td>9</td>\n",
              "      <td>2.770180</td>\n",
              "    </tr>\n",
              "  </tbody>\n",
              "</table>\n",
              "<p>90982 rows × 5 columns</p>\n",
              "</div>"
            ],
            "text/plain": [
              "       time(s)    V_m  Current (A)  Cycle       Cap\n",
              "0            0  4.098        0.997      1  2.840817\n",
              "1            1  4.096        0.998      1  2.840817\n",
              "2            2  4.094        0.999      1  2.840817\n",
              "3            3  4.093        0.998      1  2.840817\n",
              "4            4  4.092        0.999      1  2.840817\n",
              "...        ...    ...          ...    ...       ...\n",
              "90977    90977  2.506        1.002      9  2.770180\n",
              "90978    90978  2.504        1.002      9  2.770180\n",
              "90979    90979  2.502        1.002      9  2.770180\n",
              "90980    90980  2.500        1.002      9  2.770180\n",
              "90981    90981  2.497        1.002      9  2.770180\n",
              "\n",
              "[90982 rows x 5 columns]"
            ]
          },
          "metadata": {},
          "execution_count": 172
        }
      ]
    },
    {
      "cell_type": "code",
      "metadata": {
        "colab": {
          "base_uri": "https://localhost:8080/"
        },
        "id": "Jmbrt3XggM9B",
        "outputId": "d4a393fc-8383-4934-9ccd-d91db6000298"
      },
      "source": [
        "df.info() #Melihat Type data "
      ],
      "execution_count": 173,
      "outputs": [
        {
          "output_type": "stream",
          "name": "stdout",
          "text": [
            "<class 'pandas.core.frame.DataFrame'>\n",
            "RangeIndex: 90982 entries, 0 to 90981\n",
            "Data columns (total 5 columns):\n",
            " #   Column       Non-Null Count  Dtype  \n",
            "---  ------       --------------  -----  \n",
            " 0   time(s)      90982 non-null  int64  \n",
            " 1   V_m          90982 non-null  float64\n",
            " 2   Current (A)  90982 non-null  float64\n",
            " 3   Cycle        90982 non-null  int64  \n",
            " 4   Cap          90982 non-null  float64\n",
            "dtypes: float64(3), int64(2)\n",
            "memory usage: 3.5 MB\n"
          ]
        }
      ]
    },
    {
      "cell_type": "code",
      "metadata": {
        "colab": {
          "base_uri": "https://localhost:8080/",
          "height": 300
        },
        "id": "Ac-JSWKfguUV",
        "outputId": "fe2f3e9f-733c-471e-ecac-333efb05465b"
      },
      "source": [
        "df.describe() #Melihat statistik data"
      ],
      "execution_count": 174,
      "outputs": [
        {
          "output_type": "execute_result",
          "data": {
            "text/html": [
              "<div>\n",
              "<style scoped>\n",
              "    .dataframe tbody tr th:only-of-type {\n",
              "        vertical-align: middle;\n",
              "    }\n",
              "\n",
              "    .dataframe tbody tr th {\n",
              "        vertical-align: top;\n",
              "    }\n",
              "\n",
              "    .dataframe thead th {\n",
              "        text-align: right;\n",
              "    }\n",
              "</style>\n",
              "<table border=\"1\" class=\"dataframe\">\n",
              "  <thead>\n",
              "    <tr style=\"text-align: right;\">\n",
              "      <th></th>\n",
              "      <th>time(s)</th>\n",
              "      <th>V_m</th>\n",
              "      <th>Current (A)</th>\n",
              "      <th>Cycle</th>\n",
              "      <th>Cap</th>\n",
              "    </tr>\n",
              "  </thead>\n",
              "  <tbody>\n",
              "    <tr>\n",
              "      <th>count</th>\n",
              "      <td>90982.000000</td>\n",
              "      <td>90982.000000</td>\n",
              "      <td>90982.000000</td>\n",
              "      <td>90982.000000</td>\n",
              "      <td>90982.000000</td>\n",
              "    </tr>\n",
              "    <tr>\n",
              "      <th>mean</th>\n",
              "      <td>45490.500000</td>\n",
              "      <td>3.607666</td>\n",
              "      <td>0.999264</td>\n",
              "      <td>4.978699</td>\n",
              "      <td>2.806214</td>\n",
              "    </tr>\n",
              "    <tr>\n",
              "      <th>std</th>\n",
              "      <td>26264.385433</td>\n",
              "      <td>0.322777</td>\n",
              "      <td>0.001997</td>\n",
              "      <td>2.582135</td>\n",
              "      <td>0.023283</td>\n",
              "    </tr>\n",
              "    <tr>\n",
              "      <th>min</th>\n",
              "      <td>0.000000</td>\n",
              "      <td>2.497000</td>\n",
              "      <td>0.993000</td>\n",
              "      <td>1.000000</td>\n",
              "      <td>2.770180</td>\n",
              "    </tr>\n",
              "    <tr>\n",
              "      <th>25%</th>\n",
              "      <td>22745.250000</td>\n",
              "      <td>3.422000</td>\n",
              "      <td>0.997000</td>\n",
              "      <td>3.000000</td>\n",
              "      <td>2.786860</td>\n",
              "    </tr>\n",
              "    <tr>\n",
              "      <th>50%</th>\n",
              "      <td>45490.500000</td>\n",
              "      <td>3.636000</td>\n",
              "      <td>0.999000</td>\n",
              "      <td>5.000000</td>\n",
              "      <td>2.804878</td>\n",
              "    </tr>\n",
              "    <tr>\n",
              "      <th>75%</th>\n",
              "      <td>68235.750000</td>\n",
              "      <td>3.868000</td>\n",
              "      <td>1.001000</td>\n",
              "      <td>7.000000</td>\n",
              "      <td>2.823520</td>\n",
              "    </tr>\n",
              "    <tr>\n",
              "      <th>max</th>\n",
              "      <td>90981.000000</td>\n",
              "      <td>4.114000</td>\n",
              "      <td>1.003000</td>\n",
              "      <td>9.000000</td>\n",
              "      <td>2.840817</td>\n",
              "    </tr>\n",
              "  </tbody>\n",
              "</table>\n",
              "</div>"
            ],
            "text/plain": [
              "            time(s)           V_m   Current (A)         Cycle           Cap\n",
              "count  90982.000000  90982.000000  90982.000000  90982.000000  90982.000000\n",
              "mean   45490.500000      3.607666      0.999264      4.978699      2.806214\n",
              "std    26264.385433      0.322777      0.001997      2.582135      0.023283\n",
              "min        0.000000      2.497000      0.993000      1.000000      2.770180\n",
              "25%    22745.250000      3.422000      0.997000      3.000000      2.786860\n",
              "50%    45490.500000      3.636000      0.999000      5.000000      2.804878\n",
              "75%    68235.750000      3.868000      1.001000      7.000000      2.823520\n",
              "max    90981.000000      4.114000      1.003000      9.000000      2.840817"
            ]
          },
          "metadata": {},
          "execution_count": 174
        }
      ]
    },
    {
      "cell_type": "code",
      "metadata": {
        "colab": {
          "base_uri": "https://localhost:8080/"
        },
        "id": "jXvHLG8dg46J",
        "outputId": "81a86f7e-3f8a-4ca8-e9f3-2eeb1739c785"
      },
      "source": [
        "df.isnull().sum() #Melihat apakah ada kolom yang kosong"
      ],
      "execution_count": 175,
      "outputs": [
        {
          "output_type": "execute_result",
          "data": {
            "text/plain": [
              "time(s)        0\n",
              "V_m            0\n",
              "Current (A)    0\n",
              "Cycle          0\n",
              "Cap            0\n",
              "dtype: int64"
            ]
          },
          "metadata": {},
          "execution_count": 175
        }
      ]
    },
    {
      "cell_type": "markdown",
      "metadata": {
        "id": "QYamf9Ac1RVB"
      },
      "source": [
        "#5. Answer \n",
        "Bagian ini berisi proses dalam menjawab soal."
      ]
    },
    {
      "cell_type": "code",
      "metadata": {
        "id": "sSab3Hz2hHkf"
      },
      "source": [
        "#Proses dan Jawaban Soal A\n",
        "def hambatan(v,i):\n",
        "  #Rumus menghitung kapasitas dalam satuan ohm\n",
        "  return v/i\n",
        "\n",
        "def daya(v,i):\n",
        "  #Rumus menghitung daya dalam watt\n",
        "  return v*i\n",
        "\n"
      ],
      "execution_count": 183,
      "outputs": []
    },
    {
      "cell_type": "code",
      "metadata": {
        "colab": {
          "base_uri": "https://localhost:8080/"
        },
        "id": "-Bk983q-k469",
        "outputId": "d9c2700b-6bf7-4aa6-e268-0f6ab4e450d7"
      },
      "source": [
        "df.Cap.unique() #Melihat Value unique pada kolom Cap"
      ],
      "execution_count": 184,
      "outputs": [
        {
          "output_type": "execute_result",
          "data": {
            "text/plain": [
              "array([2.84081667, 2.83346528, 2.82352   , 2.82039528, 2.80487833,\n",
              "       2.79072556, 2.78686   , 2.7833425 , 2.77018   ])"
            ]
          },
          "metadata": {},
          "execution_count": 184
        }
      ]
    },
    {
      "cell_type": "code",
      "metadata": {
        "id": "aMNl_Srsk13B"
      },
      "source": [
        "#Proses Soal B\n",
        "for cap in df.Cap.unique():\n",
        "  if cap>= 2.5: #Memvalidasi nilai Cap diatas 2.5\n",
        "    df['R/P'] = df.apply(lambda df: daya(df['V_m'], df['Current (A)']), axis=1) #Jika nilai Cap>=2.5 maka akan menghitung daya dan memasukan hasil ke coloumn R/P\n",
        "  else:\n",
        "    df['R/P'] = df.apply(lambda df: hambatan(df['V_m'], df['Current (A)']), axis=1)#Jika nilai Cap<2.5 maka akan menghitung hambatan dan memasukan hasil ke coloumn R/P\n"
      ],
      "execution_count": 189,
      "outputs": []
    },
    {
      "cell_type": "code",
      "metadata": {
        "id": "ypx3clrexLHM"
      },
      "source": [
        "#Proese Soal C: Menampilkan Rata rata Kapasitas dengan Arus = 1, dan Cycle Ganjil \n",
        "x=df.Cap[(df['Current (A)'] == 1)&(df['Cycle']%2 != 0)].mean()\n",
        "#print('Rata rata Kapasitor dengan Arus 1 dan Cycle Ganjil adalah: ',x)"
      ],
      "execution_count": 186,
      "outputs": []
    },
    {
      "cell_type": "markdown",
      "metadata": {
        "id": "U_z0-JWi2QRL"
      },
      "source": [
        "#6. Hasil\n",
        "Pada bab terakhir ini berisi jawaban pertanyaan soal."
      ]
    },
    {
      "cell_type": "code",
      "metadata": {
        "colab": {
          "base_uri": "https://localhost:8080/",
          "height": 424
        },
        "id": "C4oc2h8p2beD",
        "outputId": "acb0a685-c05b-49bd-ec28-843c0e796d20"
      },
      "source": [
        "#Jawaban Soal B Buat kolom baru dengan nama kolom R/P berisikan hasil perhitungan daya atau hambatan dengan kriteria untuk Kapasitas >=2.5 hitung daya,dan Kapasitas <2.5 hitung nilai hambatan\n",
        "df"
      ],
      "execution_count": 190,
      "outputs": [
        {
          "output_type": "execute_result",
          "data": {
            "text/html": [
              "<div>\n",
              "<style scoped>\n",
              "    .dataframe tbody tr th:only-of-type {\n",
              "        vertical-align: middle;\n",
              "    }\n",
              "\n",
              "    .dataframe tbody tr th {\n",
              "        vertical-align: top;\n",
              "    }\n",
              "\n",
              "    .dataframe thead th {\n",
              "        text-align: right;\n",
              "    }\n",
              "</style>\n",
              "<table border=\"1\" class=\"dataframe\">\n",
              "  <thead>\n",
              "    <tr style=\"text-align: right;\">\n",
              "      <th></th>\n",
              "      <th>time(s)</th>\n",
              "      <th>V_m</th>\n",
              "      <th>Current (A)</th>\n",
              "      <th>Cycle</th>\n",
              "      <th>Cap</th>\n",
              "      <th>R/P</th>\n",
              "    </tr>\n",
              "  </thead>\n",
              "  <tbody>\n",
              "    <tr>\n",
              "      <th>0</th>\n",
              "      <td>0</td>\n",
              "      <td>4.098</td>\n",
              "      <td>0.997</td>\n",
              "      <td>1</td>\n",
              "      <td>2.840817</td>\n",
              "      <td>4.085706</td>\n",
              "    </tr>\n",
              "    <tr>\n",
              "      <th>1</th>\n",
              "      <td>1</td>\n",
              "      <td>4.096</td>\n",
              "      <td>0.998</td>\n",
              "      <td>1</td>\n",
              "      <td>2.840817</td>\n",
              "      <td>4.087808</td>\n",
              "    </tr>\n",
              "    <tr>\n",
              "      <th>2</th>\n",
              "      <td>2</td>\n",
              "      <td>4.094</td>\n",
              "      <td>0.999</td>\n",
              "      <td>1</td>\n",
              "      <td>2.840817</td>\n",
              "      <td>4.089906</td>\n",
              "    </tr>\n",
              "    <tr>\n",
              "      <th>3</th>\n",
              "      <td>3</td>\n",
              "      <td>4.093</td>\n",
              "      <td>0.998</td>\n",
              "      <td>1</td>\n",
              "      <td>2.840817</td>\n",
              "      <td>4.084814</td>\n",
              "    </tr>\n",
              "    <tr>\n",
              "      <th>4</th>\n",
              "      <td>4</td>\n",
              "      <td>4.092</td>\n",
              "      <td>0.999</td>\n",
              "      <td>1</td>\n",
              "      <td>2.840817</td>\n",
              "      <td>4.087908</td>\n",
              "    </tr>\n",
              "    <tr>\n",
              "      <th>...</th>\n",
              "      <td>...</td>\n",
              "      <td>...</td>\n",
              "      <td>...</td>\n",
              "      <td>...</td>\n",
              "      <td>...</td>\n",
              "      <td>...</td>\n",
              "    </tr>\n",
              "    <tr>\n",
              "      <th>90977</th>\n",
              "      <td>90977</td>\n",
              "      <td>2.506</td>\n",
              "      <td>1.002</td>\n",
              "      <td>9</td>\n",
              "      <td>2.770180</td>\n",
              "      <td>2.511012</td>\n",
              "    </tr>\n",
              "    <tr>\n",
              "      <th>90978</th>\n",
              "      <td>90978</td>\n",
              "      <td>2.504</td>\n",
              "      <td>1.002</td>\n",
              "      <td>9</td>\n",
              "      <td>2.770180</td>\n",
              "      <td>2.509008</td>\n",
              "    </tr>\n",
              "    <tr>\n",
              "      <th>90979</th>\n",
              "      <td>90979</td>\n",
              "      <td>2.502</td>\n",
              "      <td>1.002</td>\n",
              "      <td>9</td>\n",
              "      <td>2.770180</td>\n",
              "      <td>2.507004</td>\n",
              "    </tr>\n",
              "    <tr>\n",
              "      <th>90980</th>\n",
              "      <td>90980</td>\n",
              "      <td>2.500</td>\n",
              "      <td>1.002</td>\n",
              "      <td>9</td>\n",
              "      <td>2.770180</td>\n",
              "      <td>2.505000</td>\n",
              "    </tr>\n",
              "    <tr>\n",
              "      <th>90981</th>\n",
              "      <td>90981</td>\n",
              "      <td>2.497</td>\n",
              "      <td>1.002</td>\n",
              "      <td>9</td>\n",
              "      <td>2.770180</td>\n",
              "      <td>2.501994</td>\n",
              "    </tr>\n",
              "  </tbody>\n",
              "</table>\n",
              "<p>90982 rows × 6 columns</p>\n",
              "</div>"
            ],
            "text/plain": [
              "       time(s)    V_m  Current (A)  Cycle       Cap       R/P\n",
              "0            0  4.098        0.997      1  2.840817  4.085706\n",
              "1            1  4.096        0.998      1  2.840817  4.087808\n",
              "2            2  4.094        0.999      1  2.840817  4.089906\n",
              "3            3  4.093        0.998      1  2.840817  4.084814\n",
              "4            4  4.092        0.999      1  2.840817  4.087908\n",
              "...        ...    ...          ...    ...       ...       ...\n",
              "90977    90977  2.506        1.002      9  2.770180  2.511012\n",
              "90978    90978  2.504        1.002      9  2.770180  2.509008\n",
              "90979    90979  2.502        1.002      9  2.770180  2.507004\n",
              "90980    90980  2.500        1.002      9  2.770180  2.505000\n",
              "90981    90981  2.497        1.002      9  2.770180  2.501994\n",
              "\n",
              "[90982 rows x 6 columns]"
            ]
          },
          "metadata": {},
          "execution_count": 190
        }
      ]
    },
    {
      "cell_type": "code",
      "metadata": {
        "colab": {
          "base_uri": "https://localhost:8080/"
        },
        "id": "yMwdcw4H2TuK",
        "outputId": "0102f798-6a28-41bf-a763-cd0fd3217492"
      },
      "source": [
        "#Jawaban Soal C: Menampilkan Rata rata Kapasitas dengan Arus = 1, dan Cycle Ganjil \n",
        "print('Rata rata Kapasitor dengan Arus 1 dan Cycle Ganjil adalah: ',x)"
      ],
      "execution_count": 191,
      "outputs": [
        {
          "output_type": "stream",
          "name": "stdout",
          "text": [
            "Rata rata Kapasitor dengan Arus 1 dan Cycle Ganjil adalah:  2.8064845553925855\n"
          ]
        }
      ]
    }
  ]
}